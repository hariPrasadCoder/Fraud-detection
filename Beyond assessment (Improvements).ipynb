{
  "nbformat": 4,
  "nbformat_minor": 0,
  "metadata": {
    "colab": {
      "name": "Novelis_assessment.ipynb",
      "provenance": [],
      "collapsed_sections": []
    },
    "kernelspec": {
      "name": "python3",
      "display_name": "Python 3"
    },
    "language_info": {
      "name": "python"
    },
    "accelerator": "GPU"
  },
  "cells": [
    {
      "cell_type": "markdown",
      "source": [
        "# NOVELIS CODE ASSESSMENT - FRAUD DETECTION:"
      ],
      "metadata": {
        "id": "44foybg1og3F"
      }
    },
    {
      "cell_type": "markdown",
      "source": [
        "## Importing Essential libraries:"
      ],
      "metadata": {
        "id": "GC3mFxgkigvv"
      }
    },
    {
      "cell_type": "code",
      "execution_count": 135,
      "metadata": {
        "id": "n3rnNZKXVH3X"
      },
      "outputs": [],
      "source": [
        "import pandas as pd\n",
        "import numpy as np\n",
        "import matplotlib.pyplot as plt\n",
        "%matplotlib inline\n",
        "import seaborn as sns"
      ]
    },
    {
      "cell_type": "markdown",
      "source": [
        "## Reading the dataset:"
      ],
      "metadata": {
        "id": "R9j5e-_8ioqx"
      }
    },
    {
      "cell_type": "code",
      "source": [
        "df = pd.read_csv('fraud_final_dataset.csv')"
      ],
      "metadata": {
        "id": "sv3g-H7mVYKM"
      },
      "execution_count": 136,
      "outputs": []
    },
    {
      "cell_type": "code",
      "source": [
        "df.head()"
      ],
      "metadata": {
        "colab": {
          "base_uri": "https://localhost:8080/",
          "height": 354
        },
        "id": "lGHeOR7BV6ZQ",
        "outputId": "1705276b-090e-402e-c232-0b2b4dc578c0"
      },
      "execution_count": 137,
      "outputs": [
        {
          "output_type": "execute_result",
          "data": {
            "text/html": [
              "\n",
              "  <div id=\"df-08210bdd-b75f-4cca-92f5-289244e85732\">\n",
              "    <div class=\"colab-df-container\">\n",
              "      <div>\n",
              "<style scoped>\n",
              "    .dataframe tbody tr th:only-of-type {\n",
              "        vertical-align: middle;\n",
              "    }\n",
              "\n",
              "    .dataframe tbody tr th {\n",
              "        vertical-align: top;\n",
              "    }\n",
              "\n",
              "    .dataframe thead th {\n",
              "        text-align: right;\n",
              "    }\n",
              "</style>\n",
              "<table border=\"1\" class=\"dataframe\">\n",
              "  <thead>\n",
              "    <tr style=\"text-align: right;\">\n",
              "      <th></th>\n",
              "      <th>user_id</th>\n",
              "      <th>signup_time</th>\n",
              "      <th>purchase_time</th>\n",
              "      <th>elapsed_time</th>\n",
              "      <th>purchase_value</th>\n",
              "      <th>device_id</th>\n",
              "      <th>source</th>\n",
              "      <th>browser</th>\n",
              "      <th>sex</th>\n",
              "      <th>age</th>\n",
              "      <th>ip_address</th>\n",
              "      <th>class</th>\n",
              "      <th>country</th>\n",
              "    </tr>\n",
              "  </thead>\n",
              "  <tbody>\n",
              "    <tr>\n",
              "      <th>0</th>\n",
              "      <td>285108</td>\n",
              "      <td>7/15/2015 4:36</td>\n",
              "      <td>9/10/2015 14:17</td>\n",
              "      <td>2</td>\n",
              "      <td>31</td>\n",
              "      <td>HZAKVUFTDOSFD</td>\n",
              "      <td>Direct</td>\n",
              "      <td>Chrome</td>\n",
              "      <td>M</td>\n",
              "      <td>49</td>\n",
              "      <td>2.818400e+09</td>\n",
              "      <td>0</td>\n",
              "      <td>United States</td>\n",
              "    </tr>\n",
              "    <tr>\n",
              "      <th>1</th>\n",
              "      <td>131009</td>\n",
              "      <td>1/24/2015 12:29</td>\n",
              "      <td>4/13/2015 4:53</td>\n",
              "      <td>3</td>\n",
              "      <td>31</td>\n",
              "      <td>XGQAJSOUJIZCC</td>\n",
              "      <td>SEO</td>\n",
              "      <td>IE</td>\n",
              "      <td>F</td>\n",
              "      <td>21</td>\n",
              "      <td>3.251268e+09</td>\n",
              "      <td>0</td>\n",
              "      <td>United Kingdom</td>\n",
              "    </tr>\n",
              "    <tr>\n",
              "      <th>2</th>\n",
              "      <td>328855</td>\n",
              "      <td>3/11/2015 0:54</td>\n",
              "      <td>4/5/2015 12:23</td>\n",
              "      <td>1</td>\n",
              "      <td>16</td>\n",
              "      <td>VCCTAYDCWKZIY</td>\n",
              "      <td>Direct</td>\n",
              "      <td>IE</td>\n",
              "      <td>M</td>\n",
              "      <td>26</td>\n",
              "      <td>2.727760e+09</td>\n",
              "      <td>0</td>\n",
              "      <td>United States</td>\n",
              "    </tr>\n",
              "    <tr>\n",
              "      <th>3</th>\n",
              "      <td>229053</td>\n",
              "      <td>1/7/2015 13:19</td>\n",
              "      <td>1/9/2015 10:12</td>\n",
              "      <td>0</td>\n",
              "      <td>29</td>\n",
              "      <td>MFFIHYNXCJLEY</td>\n",
              "      <td>SEO</td>\n",
              "      <td>Chrome</td>\n",
              "      <td>M</td>\n",
              "      <td>34</td>\n",
              "      <td>2.083420e+09</td>\n",
              "      <td>0</td>\n",
              "      <td>Korea Republic of</td>\n",
              "    </tr>\n",
              "    <tr>\n",
              "      <th>4</th>\n",
              "      <td>108439</td>\n",
              "      <td>2/8/2015 21:11</td>\n",
              "      <td>4/9/2015 14:26</td>\n",
              "      <td>2</td>\n",
              "      <td>26</td>\n",
              "      <td>WMSXWGVPNIFBM</td>\n",
              "      <td>Ads</td>\n",
              "      <td>FireFox</td>\n",
              "      <td>M</td>\n",
              "      <td>33</td>\n",
              "      <td>3.207913e+09</td>\n",
              "      <td>0</td>\n",
              "      <td>Brazil</td>\n",
              "    </tr>\n",
              "  </tbody>\n",
              "</table>\n",
              "</div>\n",
              "      <button class=\"colab-df-convert\" onclick=\"convertToInteractive('df-08210bdd-b75f-4cca-92f5-289244e85732')\"\n",
              "              title=\"Convert this dataframe to an interactive table.\"\n",
              "              style=\"display:none;\">\n",
              "        \n",
              "  <svg xmlns=\"http://www.w3.org/2000/svg\" height=\"24px\"viewBox=\"0 0 24 24\"\n",
              "       width=\"24px\">\n",
              "    <path d=\"M0 0h24v24H0V0z\" fill=\"none\"/>\n",
              "    <path d=\"M18.56 5.44l.94 2.06.94-2.06 2.06-.94-2.06-.94-.94-2.06-.94 2.06-2.06.94zm-11 1L8.5 8.5l.94-2.06 2.06-.94-2.06-.94L8.5 2.5l-.94 2.06-2.06.94zm10 10l.94 2.06.94-2.06 2.06-.94-2.06-.94-.94-2.06-.94 2.06-2.06.94z\"/><path d=\"M17.41 7.96l-1.37-1.37c-.4-.4-.92-.59-1.43-.59-.52 0-1.04.2-1.43.59L10.3 9.45l-7.72 7.72c-.78.78-.78 2.05 0 2.83L4 21.41c.39.39.9.59 1.41.59.51 0 1.02-.2 1.41-.59l7.78-7.78 2.81-2.81c.8-.78.8-2.07 0-2.86zM5.41 20L4 18.59l7.72-7.72 1.47 1.35L5.41 20z\"/>\n",
              "  </svg>\n",
              "      </button>\n",
              "      \n",
              "  <style>\n",
              "    .colab-df-container {\n",
              "      display:flex;\n",
              "      flex-wrap:wrap;\n",
              "      gap: 12px;\n",
              "    }\n",
              "\n",
              "    .colab-df-convert {\n",
              "      background-color: #E8F0FE;\n",
              "      border: none;\n",
              "      border-radius: 50%;\n",
              "      cursor: pointer;\n",
              "      display: none;\n",
              "      fill: #1967D2;\n",
              "      height: 32px;\n",
              "      padding: 0 0 0 0;\n",
              "      width: 32px;\n",
              "    }\n",
              "\n",
              "    .colab-df-convert:hover {\n",
              "      background-color: #E2EBFA;\n",
              "      box-shadow: 0px 1px 2px rgba(60, 64, 67, 0.3), 0px 1px 3px 1px rgba(60, 64, 67, 0.15);\n",
              "      fill: #174EA6;\n",
              "    }\n",
              "\n",
              "    [theme=dark] .colab-df-convert {\n",
              "      background-color: #3B4455;\n",
              "      fill: #D2E3FC;\n",
              "    }\n",
              "\n",
              "    [theme=dark] .colab-df-convert:hover {\n",
              "      background-color: #434B5C;\n",
              "      box-shadow: 0px 1px 3px 1px rgba(0, 0, 0, 0.15);\n",
              "      filter: drop-shadow(0px 1px 2px rgba(0, 0, 0, 0.3));\n",
              "      fill: #FFFFFF;\n",
              "    }\n",
              "  </style>\n",
              "\n",
              "      <script>\n",
              "        const buttonEl =\n",
              "          document.querySelector('#df-08210bdd-b75f-4cca-92f5-289244e85732 button.colab-df-convert');\n",
              "        buttonEl.style.display =\n",
              "          google.colab.kernel.accessAllowed ? 'block' : 'none';\n",
              "\n",
              "        async function convertToInteractive(key) {\n",
              "          const element = document.querySelector('#df-08210bdd-b75f-4cca-92f5-289244e85732');\n",
              "          const dataTable =\n",
              "            await google.colab.kernel.invokeFunction('convertToInteractive',\n",
              "                                                     [key], {});\n",
              "          if (!dataTable) return;\n",
              "\n",
              "          const docLinkHtml = 'Like what you see? Visit the ' +\n",
              "            '<a target=\"_blank\" href=https://colab.research.google.com/notebooks/data_table.ipynb>data table notebook</a>'\n",
              "            + ' to learn more about interactive tables.';\n",
              "          element.innerHTML = '';\n",
              "          dataTable['output_type'] = 'display_data';\n",
              "          await google.colab.output.renderOutput(dataTable, element);\n",
              "          const docLink = document.createElement('div');\n",
              "          docLink.innerHTML = docLinkHtml;\n",
              "          element.appendChild(docLink);\n",
              "        }\n",
              "      </script>\n",
              "    </div>\n",
              "  </div>\n",
              "  "
            ],
            "text/plain": [
              "   user_id      signup_time    purchase_time  elapsed_time  purchase_value  \\\n",
              "0   285108   7/15/2015 4:36  9/10/2015 14:17             2              31   \n",
              "1   131009  1/24/2015 12:29   4/13/2015 4:53             3              31   \n",
              "2   328855   3/11/2015 0:54   4/5/2015 12:23             1              16   \n",
              "3   229053   1/7/2015 13:19   1/9/2015 10:12             0              29   \n",
              "4   108439   2/8/2015 21:11   4/9/2015 14:26             2              26   \n",
              "\n",
              "       device_id  source  browser sex  age    ip_address  class  \\\n",
              "0  HZAKVUFTDOSFD  Direct   Chrome   M   49  2.818400e+09      0   \n",
              "1  XGQAJSOUJIZCC     SEO       IE   F   21  3.251268e+09      0   \n",
              "2  VCCTAYDCWKZIY  Direct       IE   M   26  2.727760e+09      0   \n",
              "3  MFFIHYNXCJLEY     SEO   Chrome   M   34  2.083420e+09      0   \n",
              "4  WMSXWGVPNIFBM     Ads  FireFox   M   33  3.207913e+09      0   \n",
              "\n",
              "             country  \n",
              "0      United States  \n",
              "1     United Kingdom  \n",
              "2      United States  \n",
              "3  Korea Republic of  \n",
              "4             Brazil  "
            ]
          },
          "metadata": {},
          "execution_count": 137
        }
      ]
    },
    {
      "cell_type": "markdown",
      "source": [
        "## Data Exploration:"
      ],
      "metadata": {
        "id": "tdhW7Ptgk6x7"
      }
    },
    {
      "cell_type": "code",
      "source": [
        "df.shape"
      ],
      "metadata": {
        "colab": {
          "base_uri": "https://localhost:8080/"
        },
        "id": "f5Viua87ixZQ",
        "outputId": "6690d687-b93b-4614-ad1f-7d0c4312f749"
      },
      "execution_count": 138,
      "outputs": [
        {
          "output_type": "execute_result",
          "data": {
            "text/plain": [
              "(120000, 13)"
            ]
          },
          "metadata": {},
          "execution_count": 138
        }
      ]
    },
    {
      "cell_type": "markdown",
      "source": [
        "We have 120,000 rows of datapoints which is more than enough for a machine learning model to be almost accurate."
      ],
      "metadata": {
        "id": "qkI6q6y2nKHS"
      }
    },
    {
      "cell_type": "code",
      "source": [
        "df.describe()"
      ],
      "metadata": {
        "colab": {
          "base_uri": "https://localhost:8080/",
          "height": 300
        },
        "id": "hGjoIP9uV7Sd",
        "outputId": "230744ca-b95c-48f4-e263-2f601bae13dd"
      },
      "execution_count": 139,
      "outputs": [
        {
          "output_type": "execute_result",
          "data": {
            "text/html": [
              "\n",
              "  <div id=\"df-b0fb5511-6f58-4852-9a06-d1d95c7e5c44\">\n",
              "    <div class=\"colab-df-container\">\n",
              "      <div>\n",
              "<style scoped>\n",
              "    .dataframe tbody tr th:only-of-type {\n",
              "        vertical-align: middle;\n",
              "    }\n",
              "\n",
              "    .dataframe tbody tr th {\n",
              "        vertical-align: top;\n",
              "    }\n",
              "\n",
              "    .dataframe thead th {\n",
              "        text-align: right;\n",
              "    }\n",
              "</style>\n",
              "<table border=\"1\" class=\"dataframe\">\n",
              "  <thead>\n",
              "    <tr style=\"text-align: right;\">\n",
              "      <th></th>\n",
              "      <th>user_id</th>\n",
              "      <th>elapsed_time</th>\n",
              "      <th>purchase_value</th>\n",
              "      <th>age</th>\n",
              "      <th>ip_address</th>\n",
              "      <th>class</th>\n",
              "    </tr>\n",
              "  </thead>\n",
              "  <tbody>\n",
              "    <tr>\n",
              "      <th>count</th>\n",
              "      <td>120000.000000</td>\n",
              "      <td>120000.000000</td>\n",
              "      <td>120000.000000</td>\n",
              "      <td>120000.000000</td>\n",
              "      <td>1.200000e+05</td>\n",
              "      <td>120000.000000</td>\n",
              "    </tr>\n",
              "    <tr>\n",
              "      <th>mean</th>\n",
              "      <td>200320.280100</td>\n",
              "      <td>1.860408</td>\n",
              "      <td>36.881475</td>\n",
              "      <td>33.125250</td>\n",
              "      <td>2.151550e+09</td>\n",
              "      <td>0.093875</td>\n",
              "    </tr>\n",
              "    <tr>\n",
              "      <th>std</th>\n",
              "      <td>115361.945935</td>\n",
              "      <td>1.250767</td>\n",
              "      <td>18.325855</td>\n",
              "      <td>8.617081</td>\n",
              "      <td>1.248314e+09</td>\n",
              "      <td>0.291656</td>\n",
              "    </tr>\n",
              "    <tr>\n",
              "      <th>min</th>\n",
              "      <td>2.000000</td>\n",
              "      <td>0.000000</td>\n",
              "      <td>9.000000</td>\n",
              "      <td>18.000000</td>\n",
              "      <td>9.344714e+04</td>\n",
              "      <td>0.000000</td>\n",
              "    </tr>\n",
              "    <tr>\n",
              "      <th>25%</th>\n",
              "      <td>100925.500000</td>\n",
              "      <td>1.000000</td>\n",
              "      <td>22.000000</td>\n",
              "      <td>27.000000</td>\n",
              "      <td>1.085345e+09</td>\n",
              "      <td>0.000000</td>\n",
              "    </tr>\n",
              "    <tr>\n",
              "      <th>50%</th>\n",
              "      <td>200037.500000</td>\n",
              "      <td>2.000000</td>\n",
              "      <td>34.000000</td>\n",
              "      <td>33.000000</td>\n",
              "      <td>2.155238e+09</td>\n",
              "      <td>0.000000</td>\n",
              "    </tr>\n",
              "    <tr>\n",
              "      <th>75%</th>\n",
              "      <td>300395.500000</td>\n",
              "      <td>3.000000</td>\n",
              "      <td>49.000000</td>\n",
              "      <td>39.000000</td>\n",
              "      <td>3.241268e+09</td>\n",
              "      <td>0.000000</td>\n",
              "    </tr>\n",
              "    <tr>\n",
              "      <th>max</th>\n",
              "      <td>400000.000000</td>\n",
              "      <td>4.000000</td>\n",
              "      <td>154.000000</td>\n",
              "      <td>76.000000</td>\n",
              "      <td>4.294850e+09</td>\n",
              "      <td>1.000000</td>\n",
              "    </tr>\n",
              "  </tbody>\n",
              "</table>\n",
              "</div>\n",
              "      <button class=\"colab-df-convert\" onclick=\"convertToInteractive('df-b0fb5511-6f58-4852-9a06-d1d95c7e5c44')\"\n",
              "              title=\"Convert this dataframe to an interactive table.\"\n",
              "              style=\"display:none;\">\n",
              "        \n",
              "  <svg xmlns=\"http://www.w3.org/2000/svg\" height=\"24px\"viewBox=\"0 0 24 24\"\n",
              "       width=\"24px\">\n",
              "    <path d=\"M0 0h24v24H0V0z\" fill=\"none\"/>\n",
              "    <path d=\"M18.56 5.44l.94 2.06.94-2.06 2.06-.94-2.06-.94-.94-2.06-.94 2.06-2.06.94zm-11 1L8.5 8.5l.94-2.06 2.06-.94-2.06-.94L8.5 2.5l-.94 2.06-2.06.94zm10 10l.94 2.06.94-2.06 2.06-.94-2.06-.94-.94-2.06-.94 2.06-2.06.94z\"/><path d=\"M17.41 7.96l-1.37-1.37c-.4-.4-.92-.59-1.43-.59-.52 0-1.04.2-1.43.59L10.3 9.45l-7.72 7.72c-.78.78-.78 2.05 0 2.83L4 21.41c.39.39.9.59 1.41.59.51 0 1.02-.2 1.41-.59l7.78-7.78 2.81-2.81c.8-.78.8-2.07 0-2.86zM5.41 20L4 18.59l7.72-7.72 1.47 1.35L5.41 20z\"/>\n",
              "  </svg>\n",
              "      </button>\n",
              "      \n",
              "  <style>\n",
              "    .colab-df-container {\n",
              "      display:flex;\n",
              "      flex-wrap:wrap;\n",
              "      gap: 12px;\n",
              "    }\n",
              "\n",
              "    .colab-df-convert {\n",
              "      background-color: #E8F0FE;\n",
              "      border: none;\n",
              "      border-radius: 50%;\n",
              "      cursor: pointer;\n",
              "      display: none;\n",
              "      fill: #1967D2;\n",
              "      height: 32px;\n",
              "      padding: 0 0 0 0;\n",
              "      width: 32px;\n",
              "    }\n",
              "\n",
              "    .colab-df-convert:hover {\n",
              "      background-color: #E2EBFA;\n",
              "      box-shadow: 0px 1px 2px rgba(60, 64, 67, 0.3), 0px 1px 3px 1px rgba(60, 64, 67, 0.15);\n",
              "      fill: #174EA6;\n",
              "    }\n",
              "\n",
              "    [theme=dark] .colab-df-convert {\n",
              "      background-color: #3B4455;\n",
              "      fill: #D2E3FC;\n",
              "    }\n",
              "\n",
              "    [theme=dark] .colab-df-convert:hover {\n",
              "      background-color: #434B5C;\n",
              "      box-shadow: 0px 1px 3px 1px rgba(0, 0, 0, 0.15);\n",
              "      filter: drop-shadow(0px 1px 2px rgba(0, 0, 0, 0.3));\n",
              "      fill: #FFFFFF;\n",
              "    }\n",
              "  </style>\n",
              "\n",
              "      <script>\n",
              "        const buttonEl =\n",
              "          document.querySelector('#df-b0fb5511-6f58-4852-9a06-d1d95c7e5c44 button.colab-df-convert');\n",
              "        buttonEl.style.display =\n",
              "          google.colab.kernel.accessAllowed ? 'block' : 'none';\n",
              "\n",
              "        async function convertToInteractive(key) {\n",
              "          const element = document.querySelector('#df-b0fb5511-6f58-4852-9a06-d1d95c7e5c44');\n",
              "          const dataTable =\n",
              "            await google.colab.kernel.invokeFunction('convertToInteractive',\n",
              "                                                     [key], {});\n",
              "          if (!dataTable) return;\n",
              "\n",
              "          const docLinkHtml = 'Like what you see? Visit the ' +\n",
              "            '<a target=\"_blank\" href=https://colab.research.google.com/notebooks/data_table.ipynb>data table notebook</a>'\n",
              "            + ' to learn more about interactive tables.';\n",
              "          element.innerHTML = '';\n",
              "          dataTable['output_type'] = 'display_data';\n",
              "          await google.colab.output.renderOutput(dataTable, element);\n",
              "          const docLink = document.createElement('div');\n",
              "          docLink.innerHTML = docLinkHtml;\n",
              "          element.appendChild(docLink);\n",
              "        }\n",
              "      </script>\n",
              "    </div>\n",
              "  </div>\n",
              "  "
            ],
            "text/plain": [
              "             user_id   elapsed_time  purchase_value            age  \\\n",
              "count  120000.000000  120000.000000   120000.000000  120000.000000   \n",
              "mean   200320.280100       1.860408       36.881475      33.125250   \n",
              "std    115361.945935       1.250767       18.325855       8.617081   \n",
              "min         2.000000       0.000000        9.000000      18.000000   \n",
              "25%    100925.500000       1.000000       22.000000      27.000000   \n",
              "50%    200037.500000       2.000000       34.000000      33.000000   \n",
              "75%    300395.500000       3.000000       49.000000      39.000000   \n",
              "max    400000.000000       4.000000      154.000000      76.000000   \n",
              "\n",
              "         ip_address          class  \n",
              "count  1.200000e+05  120000.000000  \n",
              "mean   2.151550e+09       0.093875  \n",
              "std    1.248314e+09       0.291656  \n",
              "min    9.344714e+04       0.000000  \n",
              "25%    1.085345e+09       0.000000  \n",
              "50%    2.155238e+09       0.000000  \n",
              "75%    3.241268e+09       0.000000  \n",
              "max    4.294850e+09       1.000000  "
            ]
          },
          "metadata": {},
          "execution_count": 139
        }
      ]
    },
    {
      "cell_type": "code",
      "source": [
        "df.info()"
      ],
      "metadata": {
        "colab": {
          "base_uri": "https://localhost:8080/"
        },
        "id": "yeBgr9tSWXZD",
        "outputId": "3f52154d-d157-44d6-abe9-d6524be2ba8b"
      },
      "execution_count": 140,
      "outputs": [
        {
          "output_type": "stream",
          "name": "stdout",
          "text": [
            "<class 'pandas.core.frame.DataFrame'>\n",
            "RangeIndex: 120000 entries, 0 to 119999\n",
            "Data columns (total 13 columns):\n",
            " #   Column          Non-Null Count   Dtype  \n",
            "---  ------          --------------   -----  \n",
            " 0   user_id         120000 non-null  int64  \n",
            " 1   signup_time     120000 non-null  object \n",
            " 2   purchase_time   120000 non-null  object \n",
            " 3   elapsed_time    120000 non-null  int64  \n",
            " 4   purchase_value  120000 non-null  int64  \n",
            " 5   device_id       120000 non-null  object \n",
            " 6   source          120000 non-null  object \n",
            " 7   browser         120000 non-null  object \n",
            " 8   sex             120000 non-null  object \n",
            " 9   age             120000 non-null  int64  \n",
            " 10  ip_address      120000 non-null  float64\n",
            " 11  class           120000 non-null  int64  \n",
            " 12  country         120000 non-null  object \n",
            "dtypes: float64(1), int64(5), object(7)\n",
            "memory usage: 11.9+ MB\n"
          ]
        }
      ]
    },
    {
      "cell_type": "code",
      "source": [
        "df.isnull().sum()"
      ],
      "metadata": {
        "colab": {
          "base_uri": "https://localhost:8080/"
        },
        "id": "nsrDCJETW0kh",
        "outputId": "180334ee-ef07-406d-ed40-04aace15242d"
      },
      "execution_count": 141,
      "outputs": [
        {
          "output_type": "execute_result",
          "data": {
            "text/plain": [
              "user_id           0\n",
              "signup_time       0\n",
              "purchase_time     0\n",
              "elapsed_time      0\n",
              "purchase_value    0\n",
              "device_id         0\n",
              "source            0\n",
              "browser           0\n",
              "sex               0\n",
              "age               0\n",
              "ip_address        0\n",
              "class             0\n",
              "country           0\n",
              "dtype: int64"
            ]
          },
          "metadata": {},
          "execution_count": 141
        }
      ]
    },
    {
      "cell_type": "markdown",
      "source": [
        "Fortunately, there are no null values. So, it is easy for us to proceed."
      ],
      "metadata": {
        "id": "Qj17ChBOj_JJ"
      }
    },
    {
      "cell_type": "markdown",
      "source": [
        "## Data Cleaning & Feature Engineering:"
      ],
      "metadata": {
        "id": "hmWvBZ44k-Zk"
      }
    },
    {
      "cell_type": "markdown",
      "source": [
        "Since, id is just an unique identifier and this won't have any impact on the target variable, let's remove \"User ID\", \"Device ID\" from the data. Also removing \"IP address\" which is also an unique identifier."
      ],
      "metadata": {
        "id": "JgdrvwJJkLd1"
      }
    },
    {
      "cell_type": "code",
      "source": [
        "df.drop(['user_id', 'device_id','ip_address'], axis = 1, inplace = True) "
      ],
      "metadata": {
        "id": "8q_sE3vxXKg3"
      },
      "execution_count": 142,
      "outputs": []
    },
    {
      "cell_type": "markdown",
      "source": [
        "\"Sign Up time\" and \"Purchase time\" are in object formats. Let's convert that to datetime format."
      ],
      "metadata": {
        "id": "5D0aUJH0kpT6"
      }
    },
    {
      "cell_type": "code",
      "source": [
        "df['signup_time'] = pd.to_datetime(df['signup_time'])\n",
        "df['purchase_time'] = pd.to_datetime(df['purchase_time'])"
      ],
      "metadata": {
        "id": "Gz4xNZOZXeFC"
      },
      "execution_count": 143,
      "outputs": []
    },
    {
      "cell_type": "markdown",
      "source": [
        "Adding a new feature which is derived from the existing features. The new feature is the number of days from the sign-up day to the first purchase day. This might have some impact with the target variable. My assumption is that a person who is fraud won't take long to make their first purchase after sign-up."
      ],
      "metadata": {
        "id": "7gOt9ROZlPGD"
      }
    },
    {
      "cell_type": "code",
      "source": [
        "df['signup_to_purchase'] = (df['purchase_time'] - df['signup_time']).dt.days"
      ],
      "metadata": {
        "id": "aCPzJ_UdXqlC"
      },
      "execution_count": 144,
      "outputs": []
    },
    {
      "cell_type": "markdown",
      "source": [
        "Also extracting \"Hour\", \"Month\", and \"Week day\" from the \"Purchase time\" column."
      ],
      "metadata": {
        "id": "Dmoah9b3l-go"
      }
    },
    {
      "cell_type": "code",
      "source": [
        "df['weekday'] = df['purchase_time'].dt.weekday\n",
        "df['month'] = df['purchase_time'].dt.month\n",
        "df['hour'] = df['purchase_time'].dt.hour"
      ],
      "metadata": {
        "id": "pEYNJdf_YET7"
      },
      "execution_count": 145,
      "outputs": []
    },
    {
      "cell_type": "markdown",
      "source": [
        "Creating a new feature \"Part of the Day\" from \"Purchase time\" column, since we can explore whether there is any impact with the fraudulent transactions with the part of day."
      ],
      "metadata": {
        "id": "hyW7mMPGmRsN"
      }
    },
    {
      "cell_type": "code",
      "source": [
        "def f(x):\n",
        "    if (x > 4) and (x <= 8):\n",
        "        return 'Early Morning'\n",
        "    elif (x > 8) and (x <= 12 ):\n",
        "        return 'Morning'\n",
        "    elif (x > 12) and (x <= 16):\n",
        "        return'Noon'\n",
        "    elif (x > 16) and (x <= 20) :\n",
        "        return 'Eve'\n",
        "    elif (x > 20) and (x <= 24):\n",
        "        return'Night'\n",
        "    elif (x <= 4):\n",
        "        return'Late Night'\n",
        "\n",
        "df['part_of_day'] = df['hour'].apply(f)"
      ],
      "metadata": {
        "id": "T0wzotRpbdZL"
      },
      "execution_count": 146,
      "outputs": []
    },
    {
      "cell_type": "markdown",
      "source": [
        "Dropping \"Sign-up time\" and \"Purchase time\" features from the data, as we have already extracted the useful information from those 2 features. Plus we can't use datetime column in a Classification ML model.\n",
        "\n",
        "Also dropping \"hour\" column we created, as we have derived \"part of day\" column from the same."
      ],
      "metadata": {
        "id": "sL48_DjkmqtE"
      }
    },
    {
      "cell_type": "code",
      "source": [
        "df.drop(['signup_time', 'purchase_time', 'hour'], axis = 1, inplace = True) "
      ],
      "metadata": {
        "id": "ivKVX-Q3cGHl"
      },
      "execution_count": 147,
      "outputs": []
    },
    {
      "cell_type": "markdown",
      "source": [
        "Converting 0 to Mon, 1 to Tue and so on \"weekday\" column"
      ],
      "metadata": {
        "id": "ORvJi0IEngUo"
      }
    },
    {
      "cell_type": "code",
      "source": [
        "days = {0: 'Mon', 1:'Tue', 2:'Wed', 3:'Thu', 4:'Fri', 5:'Sat', 6:'Sun'}\n",
        "df['weekday'] = df['weekday'].replace(days)"
      ],
      "metadata": {
        "id": "HO2iMuJTdBF4"
      },
      "execution_count": 148,
      "outputs": []
    },
    {
      "cell_type": "markdown",
      "source": [
        "Also creating a new column with the weekday column - whether the purchase day is Weekend or not. This might be redundant, but also it might contain some extra information. So, not going to delete one of these features, let Principal Component Analysis will handle it."
      ],
      "metadata": {
        "id": "_z6vp9EtnrI6"
      }
    },
    {
      "cell_type": "code",
      "source": [
        "def g(x):\n",
        "  if x in ['Mon', 'Tue', 'Wed', 'Thu', 'Fri']:\n",
        "    return 0\n",
        "  elif x in ['Sat', 'Sun']:\n",
        "    return 1\n",
        "\n",
        "df['weekend_or_not'] = df['weekday'].apply(g)"
      ],
      "metadata": {
        "id": "kqKFjMVTq0I1"
      },
      "execution_count": 149,
      "outputs": []
    },
    {
      "cell_type": "markdown",
      "source": [
        "Converting the categorical variable \"sex\" to 0s and 1s."
      ],
      "metadata": {
        "id": "TVpF64XYoVph"
      }
    },
    {
      "cell_type": "code",
      "source": [
        "sex = {'F':0, 'M':1}\n",
        "df['sex'] = df['sex'].replace(sex)"
      ],
      "metadata": {
        "id": "q3igiEWDr7Qf"
      },
      "execution_count": 150,
      "outputs": []
    },
    {
      "cell_type": "code",
      "source": [
        "df.head()"
      ],
      "metadata": {
        "colab": {
          "base_uri": "https://localhost:8080/",
          "height": 267
        },
        "id": "DVyKlf2Qw-z6",
        "outputId": "d116c8eb-2147-460d-e911-37b741a8d477"
      },
      "execution_count": 151,
      "outputs": [
        {
          "output_type": "execute_result",
          "data": {
            "text/html": [
              "\n",
              "  <div id=\"df-b8adade4-d511-41b8-9b69-727988816ddc\">\n",
              "    <div class=\"colab-df-container\">\n",
              "      <div>\n",
              "<style scoped>\n",
              "    .dataframe tbody tr th:only-of-type {\n",
              "        vertical-align: middle;\n",
              "    }\n",
              "\n",
              "    .dataframe tbody tr th {\n",
              "        vertical-align: top;\n",
              "    }\n",
              "\n",
              "    .dataframe thead th {\n",
              "        text-align: right;\n",
              "    }\n",
              "</style>\n",
              "<table border=\"1\" class=\"dataframe\">\n",
              "  <thead>\n",
              "    <tr style=\"text-align: right;\">\n",
              "      <th></th>\n",
              "      <th>elapsed_time</th>\n",
              "      <th>purchase_value</th>\n",
              "      <th>source</th>\n",
              "      <th>browser</th>\n",
              "      <th>sex</th>\n",
              "      <th>age</th>\n",
              "      <th>class</th>\n",
              "      <th>country</th>\n",
              "      <th>signup_to_purchase</th>\n",
              "      <th>weekday</th>\n",
              "      <th>month</th>\n",
              "      <th>part_of_day</th>\n",
              "      <th>weekend_or_not</th>\n",
              "    </tr>\n",
              "  </thead>\n",
              "  <tbody>\n",
              "    <tr>\n",
              "      <th>0</th>\n",
              "      <td>2</td>\n",
              "      <td>31</td>\n",
              "      <td>Direct</td>\n",
              "      <td>Chrome</td>\n",
              "      <td>1</td>\n",
              "      <td>49</td>\n",
              "      <td>0</td>\n",
              "      <td>United States</td>\n",
              "      <td>57</td>\n",
              "      <td>Thu</td>\n",
              "      <td>9</td>\n",
              "      <td>Noon</td>\n",
              "      <td>0</td>\n",
              "    </tr>\n",
              "    <tr>\n",
              "      <th>1</th>\n",
              "      <td>3</td>\n",
              "      <td>31</td>\n",
              "      <td>SEO</td>\n",
              "      <td>IE</td>\n",
              "      <td>0</td>\n",
              "      <td>21</td>\n",
              "      <td>0</td>\n",
              "      <td>United Kingdom</td>\n",
              "      <td>78</td>\n",
              "      <td>Mon</td>\n",
              "      <td>4</td>\n",
              "      <td>Late Night</td>\n",
              "      <td>0</td>\n",
              "    </tr>\n",
              "    <tr>\n",
              "      <th>2</th>\n",
              "      <td>1</td>\n",
              "      <td>16</td>\n",
              "      <td>Direct</td>\n",
              "      <td>IE</td>\n",
              "      <td>1</td>\n",
              "      <td>26</td>\n",
              "      <td>0</td>\n",
              "      <td>United States</td>\n",
              "      <td>25</td>\n",
              "      <td>Sun</td>\n",
              "      <td>4</td>\n",
              "      <td>Morning</td>\n",
              "      <td>1</td>\n",
              "    </tr>\n",
              "    <tr>\n",
              "      <th>3</th>\n",
              "      <td>0</td>\n",
              "      <td>29</td>\n",
              "      <td>SEO</td>\n",
              "      <td>Chrome</td>\n",
              "      <td>1</td>\n",
              "      <td>34</td>\n",
              "      <td>0</td>\n",
              "      <td>Korea Republic of</td>\n",
              "      <td>1</td>\n",
              "      <td>Fri</td>\n",
              "      <td>1</td>\n",
              "      <td>Morning</td>\n",
              "      <td>0</td>\n",
              "    </tr>\n",
              "    <tr>\n",
              "      <th>4</th>\n",
              "      <td>2</td>\n",
              "      <td>26</td>\n",
              "      <td>Ads</td>\n",
              "      <td>FireFox</td>\n",
              "      <td>1</td>\n",
              "      <td>33</td>\n",
              "      <td>0</td>\n",
              "      <td>Brazil</td>\n",
              "      <td>59</td>\n",
              "      <td>Thu</td>\n",
              "      <td>4</td>\n",
              "      <td>Noon</td>\n",
              "      <td>0</td>\n",
              "    </tr>\n",
              "  </tbody>\n",
              "</table>\n",
              "</div>\n",
              "      <button class=\"colab-df-convert\" onclick=\"convertToInteractive('df-b8adade4-d511-41b8-9b69-727988816ddc')\"\n",
              "              title=\"Convert this dataframe to an interactive table.\"\n",
              "              style=\"display:none;\">\n",
              "        \n",
              "  <svg xmlns=\"http://www.w3.org/2000/svg\" height=\"24px\"viewBox=\"0 0 24 24\"\n",
              "       width=\"24px\">\n",
              "    <path d=\"M0 0h24v24H0V0z\" fill=\"none\"/>\n",
              "    <path d=\"M18.56 5.44l.94 2.06.94-2.06 2.06-.94-2.06-.94-.94-2.06-.94 2.06-2.06.94zm-11 1L8.5 8.5l.94-2.06 2.06-.94-2.06-.94L8.5 2.5l-.94 2.06-2.06.94zm10 10l.94 2.06.94-2.06 2.06-.94-2.06-.94-.94-2.06-.94 2.06-2.06.94z\"/><path d=\"M17.41 7.96l-1.37-1.37c-.4-.4-.92-.59-1.43-.59-.52 0-1.04.2-1.43.59L10.3 9.45l-7.72 7.72c-.78.78-.78 2.05 0 2.83L4 21.41c.39.39.9.59 1.41.59.51 0 1.02-.2 1.41-.59l7.78-7.78 2.81-2.81c.8-.78.8-2.07 0-2.86zM5.41 20L4 18.59l7.72-7.72 1.47 1.35L5.41 20z\"/>\n",
              "  </svg>\n",
              "      </button>\n",
              "      \n",
              "  <style>\n",
              "    .colab-df-container {\n",
              "      display:flex;\n",
              "      flex-wrap:wrap;\n",
              "      gap: 12px;\n",
              "    }\n",
              "\n",
              "    .colab-df-convert {\n",
              "      background-color: #E8F0FE;\n",
              "      border: none;\n",
              "      border-radius: 50%;\n",
              "      cursor: pointer;\n",
              "      display: none;\n",
              "      fill: #1967D2;\n",
              "      height: 32px;\n",
              "      padding: 0 0 0 0;\n",
              "      width: 32px;\n",
              "    }\n",
              "\n",
              "    .colab-df-convert:hover {\n",
              "      background-color: #E2EBFA;\n",
              "      box-shadow: 0px 1px 2px rgba(60, 64, 67, 0.3), 0px 1px 3px 1px rgba(60, 64, 67, 0.15);\n",
              "      fill: #174EA6;\n",
              "    }\n",
              "\n",
              "    [theme=dark] .colab-df-convert {\n",
              "      background-color: #3B4455;\n",
              "      fill: #D2E3FC;\n",
              "    }\n",
              "\n",
              "    [theme=dark] .colab-df-convert:hover {\n",
              "      background-color: #434B5C;\n",
              "      box-shadow: 0px 1px 3px 1px rgba(0, 0, 0, 0.15);\n",
              "      filter: drop-shadow(0px 1px 2px rgba(0, 0, 0, 0.3));\n",
              "      fill: #FFFFFF;\n",
              "    }\n",
              "  </style>\n",
              "\n",
              "      <script>\n",
              "        const buttonEl =\n",
              "          document.querySelector('#df-b8adade4-d511-41b8-9b69-727988816ddc button.colab-df-convert');\n",
              "        buttonEl.style.display =\n",
              "          google.colab.kernel.accessAllowed ? 'block' : 'none';\n",
              "\n",
              "        async function convertToInteractive(key) {\n",
              "          const element = document.querySelector('#df-b8adade4-d511-41b8-9b69-727988816ddc');\n",
              "          const dataTable =\n",
              "            await google.colab.kernel.invokeFunction('convertToInteractive',\n",
              "                                                     [key], {});\n",
              "          if (!dataTable) return;\n",
              "\n",
              "          const docLinkHtml = 'Like what you see? Visit the ' +\n",
              "            '<a target=\"_blank\" href=https://colab.research.google.com/notebooks/data_table.ipynb>data table notebook</a>'\n",
              "            + ' to learn more about interactive tables.';\n",
              "          element.innerHTML = '';\n",
              "          dataTable['output_type'] = 'display_data';\n",
              "          await google.colab.output.renderOutput(dataTable, element);\n",
              "          const docLink = document.createElement('div');\n",
              "          docLink.innerHTML = docLinkHtml;\n",
              "          element.appendChild(docLink);\n",
              "        }\n",
              "      </script>\n",
              "    </div>\n",
              "  </div>\n",
              "  "
            ],
            "text/plain": [
              "   elapsed_time  purchase_value  source  browser  sex  age  class  \\\n",
              "0             2              31  Direct   Chrome    1   49      0   \n",
              "1             3              31     SEO       IE    0   21      0   \n",
              "2             1              16  Direct       IE    1   26      0   \n",
              "3             0              29     SEO   Chrome    1   34      0   \n",
              "4             2              26     Ads  FireFox    1   33      0   \n",
              "\n",
              "             country  signup_to_purchase weekday  month part_of_day  \\\n",
              "0      United States                  57     Thu      9        Noon   \n",
              "1     United Kingdom                  78     Mon      4  Late Night   \n",
              "2      United States                  25     Sun      4     Morning   \n",
              "3  Korea Republic of                   1     Fri      1     Morning   \n",
              "4             Brazil                  59     Thu      4        Noon   \n",
              "\n",
              "   weekend_or_not  \n",
              "0               0  \n",
              "1               0  \n",
              "2               1  \n",
              "3               0  \n",
              "4               0  "
            ]
          },
          "metadata": {},
          "execution_count": 151
        }
      ]
    },
    {
      "cell_type": "markdown",
      "source": [
        "So, this is our data after performing the feature engineering."
      ],
      "metadata": {
        "id": "Lmx---ePogKq"
      }
    },
    {
      "cell_type": "markdown",
      "source": [
        "Now, let's visualize this data and try to see any patterns over there."
      ],
      "metadata": {
        "id": "rNgzy922ooB8"
      }
    },
    {
      "cell_type": "markdown",
      "source": [
        "## Exploratory Data Analytics:"
      ],
      "metadata": {
        "id": "ilNOYCePovQS"
      }
    },
    {
      "cell_type": "markdown",
      "source": [
        "Plotting scatter plots of all numerical features in the data"
      ],
      "metadata": {
        "id": "FtGeL22Ro_lv"
      }
    },
    {
      "cell_type": "code",
      "source": [
        "sns.pairplot(df)"
      ],
      "metadata": {
        "colab": {
          "base_uri": "https://localhost:8080/",
          "height": 1000
        },
        "id": "-8AFHXoN3Kb4",
        "outputId": "977b92f1-366d-46a2-ca4c-00d0ee926717"
      },
      "execution_count": 152,
      "outputs": [
        {
          "output_type": "execute_result",
          "data": {
            "text/plain": [
              "<seaborn.axisgrid.PairGrid at 0x7f020a3ac050>"
            ]
          },
          "metadata": {},
          "execution_count": 152
        },
        {
          "output_type": "display_data",
          "data": {
            "image/png": "[encoded data removed]",
            "text/plain": [
              "<Figure size 1440x1440 with 72 Axes>"
            ]
          },
          "metadata": {
            "needs_background": "light"
          }
        }
      ]
    },
    {
      "cell_type": "markdown",
      "source": [
        "Since our target variable is a binary classifier, this plot is not providing much insights. Let's plot the target variables with the other independent categorical variables."
      ],
      "metadata": {
        "id": "DWhXwEmBpOQJ"
      }
    },
    {
      "cell_type": "markdown",
      "source": [
        "### Source vs Percentage of transaction (fraud or not):"
      ],
      "metadata": {
        "id": "N6V0625LqhRU"
      }
    },
    {
      "cell_type": "code",
      "source": [
        "df1 = df.groupby([\"source\", \"class\"]).size().reset_index(name='count')\n",
        "df2 = df.groupby('source')[\"class\"].count().reset_index(name='Total_count')\n",
        "df_final = df1.merge(df2)\n",
        "df_final['percent'] = 100*(df_final['count']/df_final['Total_count'])\n",
        "\n",
        "\n",
        "sns.catplot(x='source', y='percent', hue='class', kind='bar', data=df_final)\n",
        "plt.title('Source vs Percentage of transaction (fraud or not)')"
      ],
      "metadata": {
        "colab": {
          "base_uri": "https://localhost:8080/",
          "height": 403
        },
        "id": "ByONdQwLydUD",
        "outputId": "487acb29-5c98-4c71-e763-1a099628eb17"
      },
      "execution_count": 153,
      "outputs": [
        {
          "output_type": "execute_result",
          "data": {
            "text/plain": [
              "Text(0.5, 1.0, 'Source vs Percentage of transaction (fraud or not)')"
            ]
          },
          "metadata": {},
          "execution_count": 153
        },
        {
          "output_type": "display_data",
          "data": {
            "image/png": "[encoded data removed]",
            "text/plain": [
              "<Figure size 402.375x360 with 1 Axes>"
            ]
          },
          "metadata": {
            "needs_background": "light"
          }
        }
      ]
    },
    {
      "cell_type": "markdown",
      "source": [
        "From the above graph, we can see that the percentage of fraud transactions and normal transactions are almost equal for all three sources - \"Ads\", \"Direct\" and \"SEO\"."
      ],
      "metadata": {
        "id": "l7OCO6CdqP9x"
      }
    },
    {
      "cell_type": "markdown",
      "source": [
        "### Elapsed time vs Percentage of transaction (fraud or not):"
      ],
      "metadata": {
        "id": "f3aHYZPkqwFI"
      }
    },
    {
      "cell_type": "code",
      "source": [
        "df1 = df.groupby([\"elapsed_time\", \"class\"]).size().reset_index(name='count')\n",
        "df2 = df.groupby('elapsed_time')[\"class\"].count().reset_index(name='Total_count')\n",
        "df_final = df1.merge(df2)\n",
        "df_final['percent'] = 100*(df_final['count']/df_final['Total_count'])\n",
        "\n",
        "\n",
        "sns.catplot(x='elapsed_time', y='percent', hue='class', kind='bar', data=df_final)\n",
        "plt.title('Elapsed time vs Percentage of transaction (fraud or not)')"
      ],
      "metadata": {
        "colab": {
          "base_uri": "https://localhost:8080/",
          "height": 400
        },
        "id": "7mNlJq8P0uOZ",
        "outputId": "bef1f455-7d18-41cf-ba46-55723e71ddf1"
      },
      "execution_count": 154,
      "outputs": [
        {
          "output_type": "execute_result",
          "data": {
            "text/plain": [
              "Text(0.5, 1.0, 'Elapsed time vs Percentage of transaction (fraud or not)')"
            ]
          },
          "metadata": {},
          "execution_count": 154
        },
        {
          "output_type": "display_data",
          "data": {
            "image/png": "[encoded data removed]",
            "text/plain": [
              "<Figure size 402.375x360 with 1 Axes>"
            ]
          },
          "metadata": {
            "needs_background": "light"
          }
        }
      ]
    },
    {
      "cell_type": "markdown",
      "source": [
        "We can see something fishy here. The transaction is likely to be fraud, if the elapsed time is \"0\" than other timings."
      ],
      "metadata": {
        "id": "6_91KggAq9dO"
      }
    },
    {
      "cell_type": "markdown",
      "source": [
        "### Sex vs Percentage of transaction (fraud or not):"
      ],
      "metadata": {
        "id": "MLKkvpo2rNKQ"
      }
    },
    {
      "cell_type": "code",
      "source": [
        "df1 = df.groupby([\"sex\", \"class\"]).size().reset_index(name='count')\n",
        "df2 = df.groupby('sex')[\"class\"].count().reset_index(name='Total_count')\n",
        "df_final = df1.merge(df2)\n",
        "df_final['percent'] = 100*(df_final['count']/df_final['Total_count'])\n",
        "\n",
        "\n",
        "sns.catplot(x='sex', y='percent', hue='class', kind='bar', data=df_final)\n",
        "plt.title('Sex vs Percentage of transaction (fraud or not)')"
      ],
      "metadata": {
        "colab": {
          "base_uri": "https://localhost:8080/",
          "height": 403
        },
        "id": "xElgTW4M5vGs",
        "outputId": "5117ae4f-15aa-4ba7-990f-f08c46cf562b"
      },
      "execution_count": 155,
      "outputs": [
        {
          "output_type": "execute_result",
          "data": {
            "text/plain": [
              "Text(0.5, 1.0, 'Sex vs Percentage of transaction (fraud or not)')"
            ]
          },
          "metadata": {},
          "execution_count": 155
        },
        {
          "output_type": "display_data",
          "data": {
            "image/png": "[encoded data removed]",
            "text/plain": [
              "<Figure size 402.375x360 with 1 Axes>"
            ]
          },
          "metadata": {
            "needs_background": "light"
          }
        }
      ]
    },
    {
      "cell_type": "markdown",
      "source": [
        "From the above graph, we can see that the percentage of fraud transactions and normal transactions are almost equal for both sex."
      ],
      "metadata": {
        "id": "Ck6uUZLvrWmw"
      }
    },
    {
      "cell_type": "markdown",
      "source": [
        "### Purchase Month vs Percentage of transaction (fraud or not):"
      ],
      "metadata": {
        "id": "jBAfwR60rgsN"
      }
    },
    {
      "cell_type": "code",
      "source": [
        "df1 = df.groupby([\"month\", \"class\"]).size().reset_index(name='count')\n",
        "df2 = df.groupby('month')[\"class\"].count().reset_index(name='Total_count')\n",
        "df_final = df1.merge(df2)\n",
        "df_final['percent'] = 100*(df_final['count']/df_final['Total_count'])\n",
        "\n",
        "\n",
        "sns.catplot(x='month', y='percent', hue='class', kind='bar', data=df_final)\n",
        "plt.title('Purchase Month vs Percentage of transaction (fraud or not)')"
      ],
      "metadata": {
        "colab": {
          "base_uri": "https://localhost:8080/",
          "height": 400
        },
        "id": "vD-KDQqh54rI",
        "outputId": "38264972-fbb6-4404-c893-c4f5e2b44cef"
      },
      "execution_count": 156,
      "outputs": [
        {
          "output_type": "execute_result",
          "data": {
            "text/plain": [
              "Text(0.5, 1.0, 'Purchase Month vs Percentage of transaction (fraud or not)')"
            ]
          },
          "metadata": {},
          "execution_count": 156
        },
        {
          "output_type": "display_data",
          "data": {
            "image/png": "[encoded data removed]",
            "text/plain": [
              "<Figure size 402.375x360 with 1 Axes>"
            ]
          },
          "metadata": {
            "needs_background": "light"
          }
        }
      ]
    },
    {
      "cell_type": "markdown",
      "source": [
        "From the above graph, we can see that in January month, majority of the fraud transactions have taken place. \n",
        "\n",
        "(Maybe fraudsters would like to collect their money in the first month itself and they want to relax for the rest of the year, just my crazy assumption)"
      ],
      "metadata": {
        "id": "VusOGz_8rqIw"
      }
    },
    {
      "cell_type": "markdown",
      "source": [
        "### Weekend_or_not vs Percentage of transaction (fraud or not):"
      ],
      "metadata": {
        "id": "9VWX-3k2sfIt"
      }
    },
    {
      "cell_type": "code",
      "source": [
        "df1 = df.groupby([\"weekend_or_not\", \"class\"]).size().reset_index(name='count')\n",
        "df2 = df.groupby('weekend_or_not')[\"class\"].count().reset_index(name='Total_count')\n",
        "df_final = df1.merge(df2)\n",
        "df_final['percent'] = 100*(df_final['count']/df_final['Total_count'])\n",
        "\n",
        "\n",
        "sns.catplot(x='weekend_or_not', y='percent', hue='class', kind='bar', data=df_final)\n",
        "plt.title('Weekend_or_not vs Percentage of transaction (fraud or not)')"
      ],
      "metadata": {
        "colab": {
          "base_uri": "https://localhost:8080/",
          "height": 403
        },
        "id": "K5PonNAz6Bjr",
        "outputId": "e2a64891-122c-4190-a3d1-6a047a9b47bf"
      },
      "execution_count": 157,
      "outputs": [
        {
          "output_type": "execute_result",
          "data": {
            "text/plain": [
              "Text(0.5, 1.0, 'Weekend_or_not vs Percentage of transaction (fraud or not)')"
            ]
          },
          "metadata": {},
          "execution_count": 157
        },
        {
          "output_type": "display_data",
          "data": {
            "image/png": "[encoded data removed]",
            "text/plain": [
              "<Figure size 402.375x360 with 1 Axes>"
            ]
          },
          "metadata": {
            "needs_background": "light"
          }
        }
      ]
    },
    {
      "cell_type": "markdown",
      "source": [
        "The transactions are equal for both. No patterns can be found here."
      ],
      "metadata": {
        "id": "iU7-NeFJsou_"
      }
    },
    {
      "cell_type": "markdown",
      "source": [
        "### Browser vs Percentage of transaction (fraud or not):"
      ],
      "metadata": {
        "id": "x66FBV4es6-0"
      }
    },
    {
      "cell_type": "code",
      "source": [
        "df1 = df.groupby([\"browser\", \"class\"]).size().reset_index(name='count')\n",
        "df2 = df.groupby('browser')[\"class\"].count().reset_index(name='Total_count')\n",
        "df_final = df1.merge(df2)\n",
        "df_final['percent'] = 100*(df_final['count']/df_final['Total_count'])\n",
        "\n",
        "\n",
        "sns.catplot(x='browser', y='percent', hue='class', kind='bar', data=df_final)\n",
        "plt.title('Browser vs Percentage of transaction (fraud or not)')"
      ],
      "metadata": {
        "colab": {
          "base_uri": "https://localhost:8080/",
          "height": 403
        },
        "id": "1CxWHeZ76Kzy",
        "outputId": "12bb71ea-689c-441d-a262-7c7681b0bdc8"
      },
      "execution_count": 158,
      "outputs": [
        {
          "output_type": "execute_result",
          "data": {
            "text/plain": [
              "Text(0.5, 1.0, 'Browser vs Percentage of transaction (fraud or not)')"
            ]
          },
          "metadata": {},
          "execution_count": 158
        },
        {
          "output_type": "display_data",
          "data": {
            "image/png": "[encoded data removed]",
            "text/plain": [
              "<Figure size 402.375x360 with 1 Axes>"
            ]
          },
          "metadata": {
            "needs_background": "light"
          }
        }
      ]
    },
    {
      "cell_type": "markdown",
      "source": [
        "Browser also doesn't have any impact with the type of transaction."
      ],
      "metadata": {
        "id": "6ZN9T3wBtCsy"
      }
    },
    {
      "cell_type": "markdown",
      "source": [
        "Let's check whether it is to do something with the country (like most of the fraudulent transactions are from a specific country or not)"
      ],
      "metadata": {
        "id": "nmXLcsOMtLHH"
      }
    },
    {
      "cell_type": "code",
      "source": [
        "df1 = df.groupby([\"country\", \"class\"]).size().reset_index(name='count')\n",
        "df2 = df.groupby('country')[\"class\"].count().reset_index(name='Total_count')\n",
        "df_final = df1.merge(df2)\n",
        "df_final['percent'] = 100*(df_final['count']/df_final['Total_count'])\n",
        "df_final[df_final['class'] == 1].sort_values(by='percent', ascending=False)"
      ],
      "metadata": {
        "colab": {
          "base_uri": "https://localhost:8080/",
          "height": 423
        },
        "id": "I2h5IV6D6QtS",
        "outputId": "65c34c1a-7a89-45bb-e069-c8bed020a385"
      },
      "execution_count": 159,
      "outputs": [
        {
          "output_type": "execute_result",
          "data": {
            "text/html": [
              "\n",
              "  <div id=\"df-3732d4dd-1c70-4f62-a4b1-61f716fd5243\">\n",
              "    <div class=\"colab-df-container\">\n",
              "      <div>\n",
              "<style scoped>\n",
              "    .dataframe tbody tr th:only-of-type {\n",
              "        vertical-align: middle;\n",
              "    }\n",
              "\n",
              "    .dataframe tbody tr th {\n",
              "        vertical-align: top;\n",
              "    }\n",
              "\n",
              "    .dataframe thead th {\n",
              "        text-align: right;\n",
              "    }\n",
              "</style>\n",
              "<table border=\"1\" class=\"dataframe\">\n",
              "  <thead>\n",
              "    <tr style=\"text-align: right;\">\n",
              "      <th></th>\n",
              "      <th>country</th>\n",
              "      <th>class</th>\n",
              "      <th>count</th>\n",
              "      <th>Total_count</th>\n",
              "      <th>percent</th>\n",
              "    </tr>\n",
              "  </thead>\n",
              "  <tbody>\n",
              "    <tr>\n",
              "      <th>257</th>\n",
              "      <td>Turkmenistan</td>\n",
              "      <td>1</td>\n",
              "      <td>1</td>\n",
              "      <td>1</td>\n",
              "      <td>100.000000</td>\n",
              "    </tr>\n",
              "    <tr>\n",
              "      <th>279</th>\n",
              "      <td>Virgin Islands (U.S.)</td>\n",
              "      <td>1</td>\n",
              "      <td>1</td>\n",
              "      <td>2</td>\n",
              "      <td>50.000000</td>\n",
              "    </tr>\n",
              "    <tr>\n",
              "      <th>178</th>\n",
              "      <td>Namibia</td>\n",
              "      <td>1</td>\n",
              "      <td>8</td>\n",
              "      <td>20</td>\n",
              "      <td>40.000000</td>\n",
              "    </tr>\n",
              "    <tr>\n",
              "      <th>151</th>\n",
              "      <td>Luxembourg</td>\n",
              "      <td>1</td>\n",
              "      <td>22</td>\n",
              "      <td>56</td>\n",
              "      <td>39.285714</td>\n",
              "    </tr>\n",
              "    <tr>\n",
              "      <th>238</th>\n",
              "      <td>Sri Lanka</td>\n",
              "      <td>1</td>\n",
              "      <td>8</td>\n",
              "      <td>22</td>\n",
              "      <td>36.363636</td>\n",
              "    </tr>\n",
              "    <tr>\n",
              "      <th>...</th>\n",
              "      <td>...</td>\n",
              "      <td>...</td>\n",
              "      <td>...</td>\n",
              "      <td>...</td>\n",
              "      <td>...</td>\n",
              "    </tr>\n",
              "    <tr>\n",
              "      <th>24</th>\n",
              "      <td>Belarus</td>\n",
              "      <td>1</td>\n",
              "      <td>2</td>\n",
              "      <td>59</td>\n",
              "      <td>3.389831</td>\n",
              "    </tr>\n",
              "    <tr>\n",
              "      <th>65</th>\n",
              "      <td>Cyprus</td>\n",
              "      <td>1</td>\n",
              "      <td>1</td>\n",
              "      <td>31</td>\n",
              "      <td>3.225806</td>\n",
              "    </tr>\n",
              "    <tr>\n",
              "      <th>174</th>\n",
              "      <td>Morocco</td>\n",
              "      <td>1</td>\n",
              "      <td>3</td>\n",
              "      <td>134</td>\n",
              "      <td>2.238806</td>\n",
              "    </tr>\n",
              "    <tr>\n",
              "      <th>224</th>\n",
              "      <td>Serbia</td>\n",
              "      <td>1</td>\n",
              "      <td>1</td>\n",
              "      <td>50</td>\n",
              "      <td>2.000000</td>\n",
              "    </tr>\n",
              "    <tr>\n",
              "      <th>41</th>\n",
              "      <td>Bulgaria</td>\n",
              "      <td>1</td>\n",
              "      <td>1</td>\n",
              "      <td>130</td>\n",
              "      <td>0.769231</td>\n",
              "    </tr>\n",
              "  </tbody>\n",
              "</table>\n",
              "<p>107 rows × 5 columns</p>\n",
              "</div>\n",
              "      <button class=\"colab-df-convert\" onclick=\"convertToInteractive('df-3732d4dd-1c70-4f62-a4b1-61f716fd5243')\"\n",
              "              title=\"Convert this dataframe to an interactive table.\"\n",
              "              style=\"display:none;\">\n",
              "        \n",
              "  <svg xmlns=\"http://www.w3.org/2000/svg\" height=\"24px\"viewBox=\"0 0 24 24\"\n",
              "       width=\"24px\">\n",
              "    <path d=\"M0 0h24v24H0V0z\" fill=\"none\"/>\n",
              "    <path d=\"M18.56 5.44l.94 2.06.94-2.06 2.06-.94-2.06-.94-.94-2.06-.94 2.06-2.06.94zm-11 1L8.5 8.5l.94-2.06 2.06-.94-2.06-.94L8.5 2.5l-.94 2.06-2.06.94zm10 10l.94 2.06.94-2.06 2.06-.94-2.06-.94-.94-2.06-.94 2.06-2.06.94z\"/><path d=\"M17.41 7.96l-1.37-1.37c-.4-.4-.92-.59-1.43-.59-.52 0-1.04.2-1.43.59L10.3 9.45l-7.72 7.72c-.78.78-.78 2.05 0 2.83L4 21.41c.39.39.9.59 1.41.59.51 0 1.02-.2 1.41-.59l7.78-7.78 2.81-2.81c.8-.78.8-2.07 0-2.86zM5.41 20L4 18.59l7.72-7.72 1.47 1.35L5.41 20z\"/>\n",
              "  </svg>\n",
              "      </button>\n",
              "      \n",
              "  <style>\n",
              "    .colab-df-container {\n",
              "      display:flex;\n",
              "      flex-wrap:wrap;\n",
              "      gap: 12px;\n",
              "    }\n",
              "\n",
              "    .colab-df-convert {\n",
              "      background-color: #E8F0FE;\n",
              "      border: none;\n",
              "      border-radius: 50%;\n",
              "      cursor: pointer;\n",
              "      display: none;\n",
              "      fill: #1967D2;\n",
              "      height: 32px;\n",
              "      padding: 0 0 0 0;\n",
              "      width: 32px;\n",
              "    }\n",
              "\n",
              "    .colab-df-convert:hover {\n",
              "      background-color: #E2EBFA;\n",
              "      box-shadow: 0px 1px 2px rgba(60, 64, 67, 0.3), 0px 1px 3px 1px rgba(60, 64, 67, 0.15);\n",
              "      fill: #174EA6;\n",
              "    }\n",
              "\n",
              "    [theme=dark] .colab-df-convert {\n",
              "      background-color: #3B4455;\n",
              "      fill: #D2E3FC;\n",
              "    }\n",
              "\n",
              "    [theme=dark] .colab-df-convert:hover {\n",
              "      background-color: #434B5C;\n",
              "      box-shadow: 0px 1px 3px 1px rgba(0, 0, 0, 0.15);\n",
              "      filter: drop-shadow(0px 1px 2px rgba(0, 0, 0, 0.3));\n",
              "      fill: #FFFFFF;\n",
              "    }\n",
              "  </style>\n",
              "\n",
              "      <script>\n",
              "        const buttonEl =\n",
              "          document.querySelector('#df-3732d4dd-1c70-4f62-a4b1-61f716fd5243 button.colab-df-convert');\n",
              "        buttonEl.style.display =\n",
              "          google.colab.kernel.accessAllowed ? 'block' : 'none';\n",
              "\n",
              "        async function convertToInteractive(key) {\n",
              "          const element = document.querySelector('#df-3732d4dd-1c70-4f62-a4b1-61f716fd5243');\n",
              "          const dataTable =\n",
              "            await google.colab.kernel.invokeFunction('convertToInteractive',\n",
              "                                                     [key], {});\n",
              "          if (!dataTable) return;\n",
              "\n",
              "          const docLinkHtml = 'Like what you see? Visit the ' +\n",
              "            '<a target=\"_blank\" href=https://colab.research.google.com/notebooks/data_table.ipynb>data table notebook</a>'\n",
              "            + ' to learn more about interactive tables.';\n",
              "          element.innerHTML = '';\n",
              "          dataTable['output_type'] = 'display_data';\n",
              "          await google.colab.output.renderOutput(dataTable, element);\n",
              "          const docLink = document.createElement('div');\n",
              "          docLink.innerHTML = docLinkHtml;\n",
              "          element.appendChild(docLink);\n",
              "        }\n",
              "      </script>\n",
              "    </div>\n",
              "  </div>\n",
              "  "
            ],
            "text/plain": [
              "                   country  class  count  Total_count     percent\n",
              "257           Turkmenistan      1      1            1  100.000000\n",
              "279  Virgin Islands (U.S.)      1      1            2   50.000000\n",
              "178                Namibia      1      8           20   40.000000\n",
              "151             Luxembourg      1     22           56   39.285714\n",
              "238              Sri Lanka      1      8           22   36.363636\n",
              "..                     ...    ...    ...          ...         ...\n",
              "24                 Belarus      1      2           59    3.389831\n",
              "65                  Cyprus      1      1           31    3.225806\n",
              "174                Morocco      1      3          134    2.238806\n",
              "224                 Serbia      1      1           50    2.000000\n",
              "41                Bulgaria      1      1          130    0.769231\n",
              "\n",
              "[107 rows x 5 columns]"
            ]
          },
          "metadata": {},
          "execution_count": 159
        }
      ]
    },
    {
      "cell_type": "markdown",
      "source": [
        "In the above table, \"precent\" indicates the percentage of fraud transactions that are from that specific country. We can't find any pattern here too."
      ],
      "metadata": {
        "id": "_ZkM0XaztbUa"
      }
    },
    {
      "cell_type": "markdown",
      "source": [
        "### Weekday vs Percentage of transaction (fraud or not):"
      ],
      "metadata": {
        "id": "_K_4wlbitutB"
      }
    },
    {
      "cell_type": "code",
      "source": [
        "df1 = df.groupby([\"weekday\", \"class\"]).size().reset_index(name='count')\n",
        "df2 = df.groupby('weekday')[\"class\"].count().reset_index(name='Total_count')\n",
        "df_final = df1.merge(df2)\n",
        "df_final['percent'] = 100*(df_final['count']/df_final['Total_count'])\n",
        "\n",
        "\n",
        "sns.catplot(x='weekday', y='percent', hue='class', kind='bar', data=df_final)\n",
        "plt.title('Weekday vs Percentage of transaction (fraud or not)')"
      ],
      "metadata": {
        "colab": {
          "base_uri": "https://localhost:8080/",
          "height": 403
        },
        "id": "L6NtvkWT7Fts",
        "outputId": "c8cc949b-4acf-461b-966d-d5171f1ebcaa"
      },
      "execution_count": 160,
      "outputs": [
        {
          "output_type": "execute_result",
          "data": {
            "text/plain": [
              "Text(0.5, 1.0, 'Weekday vs Percentage of transaction (fraud or not)')"
            ]
          },
          "metadata": {},
          "execution_count": 160
        },
        {
          "output_type": "display_data",
          "data": {
            "image/png": "[encoded data removed]",
            "text/plain": [
              "<Figure size 402.375x360 with 1 Axes>"
            ]
          },
          "metadata": {
            "needs_background": "light"
          }
        }
      ]
    },
    {
      "cell_type": "markdown",
      "source": [
        "### Part of day vs Percentage of transaction (fraud or not):"
      ],
      "metadata": {
        "id": "0jQuAheMt7cu"
      }
    },
    {
      "cell_type": "code",
      "source": [
        "df1 = df.groupby([\"part_of_day\", \"class\"]).size().reset_index(name='count')\n",
        "df2 = df.groupby('part_of_day')[\"class\"].count().reset_index(name='Total_count')\n",
        "df_final = df1.merge(df2)\n",
        "df_final['percent'] = 100*(df_final['count']/df_final['Total_count'])\n",
        "\n",
        "\n",
        "sns.catplot(x='part_of_day', y='percent', hue='class', kind='bar', data=df_final)\n",
        "plt.title('Part of day vs Percentage of transaction (fraud or not)')"
      ],
      "metadata": {
        "colab": {
          "base_uri": "https://localhost:8080/",
          "height": 403
        },
        "id": "dChWc6z_7jdW",
        "outputId": "3ab5d194-7ac6-4d70-9842-e59057adf7c3"
      },
      "execution_count": 161,
      "outputs": [
        {
          "output_type": "execute_result",
          "data": {
            "text/plain": [
              "Text(0.5, 1.0, 'Part of day vs Percentage of transaction (fraud or not)')"
            ]
          },
          "metadata": {},
          "execution_count": 161
        },
        {
          "output_type": "display_data",
          "data": {
            "image/png": "[encoded data removed]",
            "text/plain": [
              "<Figure size 402.375x360 with 1 Axes>"
            ]
          },
          "metadata": {
            "needs_background": "light"
          }
        }
      ]
    },
    {
      "cell_type": "markdown",
      "source": [
        "I expected that we can see some patterns with the \"weekday\" or \"part of day\", but the results are not supporting our assumptions.\n",
        "\n",
        "From all these graphs, we can understand that the fraudsters are working hard to make sure that they won't leave any patterns. But still we noticed some patterns. Let's apply PCA and build machine learning models, let them detect the patterns that we missed to visualize."
      ],
      "metadata": {
        "id": "f43ZKsDOt-ZY"
      }
    },
    {
      "cell_type": "markdown",
      "source": [
        "## Data Preprocessing:"
      ],
      "metadata": {
        "id": "KAl_Oipmu5oB"
      }
    },
    {
      "cell_type": "markdown",
      "source": [
        "### One-Hot Encoding:"
      ],
      "metadata": {
        "id": "BToZrauexsET"
      }
    },
    {
      "cell_type": "markdown",
      "source": [
        "Categorical features can't be fed into the machine learning model, so performing \"One Hot Encoding\" on categorical features."
      ],
      "metadata": {
        "id": "WayyVfcbxd3g"
      }
    },
    {
      "cell_type": "code",
      "source": [
        "df1 = pd.get_dummies(df.source,prefix='source',drop_first=True)\n",
        "df2 = pd.get_dummies(df.browser,prefix='browser',drop_first=True)\n",
        "df3 = pd.get_dummies(df.country,prefix='country',drop_first=True)\n",
        "df4 = pd.get_dummies(df.weekday,prefix='weekday',drop_first=True)\n",
        "df5 = pd.get_dummies(df.part_of_day,prefix='part_of_day',drop_first=True)"
      ],
      "metadata": {
        "id": "3o1s1w6X7tKm"
      },
      "execution_count": 162,
      "outputs": []
    },
    {
      "cell_type": "code",
      "source": [
        "df = pd.concat([df,df1, df2, df3, df4, df5],axis=1)\n",
        "df.drop(['source', 'browser', 'country', 'weekday', 'part_of_day'],axis=1,inplace=True)\n",
        "df.head()"
      ],
      "metadata": {
        "colab": {
          "base_uri": "https://localhost:8080/",
          "height": 317
        },
        "id": "SQoo18XI765K",
        "outputId": "8e9201e1-93f9-4eec-8fd0-01c81e8fd4fc"
      },
      "execution_count": 163,
      "outputs": [
        {
          "output_type": "execute_result",
          "data": {
            "text/html": [
              "\n",
              "  <div id=\"df-72da5162-9b73-4a3a-880d-e13585bf7bf3\">\n",
              "    <div class=\"colab-df-container\">\n",
              "      <div>\n",
              "<style scoped>\n",
              "    .dataframe tbody tr th:only-of-type {\n",
              "        vertical-align: middle;\n",
              "    }\n",
              "\n",
              "    .dataframe tbody tr th {\n",
              "        vertical-align: top;\n",
              "    }\n",
              "\n",
              "    .dataframe thead th {\n",
              "        text-align: right;\n",
              "    }\n",
              "</style>\n",
              "<table border=\"1\" class=\"dataframe\">\n",
              "  <thead>\n",
              "    <tr style=\"text-align: right;\">\n",
              "      <th></th>\n",
              "      <th>elapsed_time</th>\n",
              "      <th>purchase_value</th>\n",
              "      <th>sex</th>\n",
              "      <th>age</th>\n",
              "      <th>class</th>\n",
              "      <th>signup_to_purchase</th>\n",
              "      <th>month</th>\n",
              "      <th>weekend_or_not</th>\n",
              "      <th>source_Direct</th>\n",
              "      <th>source_SEO</th>\n",
              "      <th>...</th>\n",
              "      <th>weekday_Sat</th>\n",
              "      <th>weekday_Sun</th>\n",
              "      <th>weekday_Thu</th>\n",
              "      <th>weekday_Tue</th>\n",
              "      <th>weekday_Wed</th>\n",
              "      <th>part_of_day_Eve</th>\n",
              "      <th>part_of_day_Late Night</th>\n",
              "      <th>part_of_day_Morning</th>\n",
              "      <th>part_of_day_Night</th>\n",
              "      <th>part_of_day_Noon</th>\n",
              "    </tr>\n",
              "  </thead>\n",
              "  <tbody>\n",
              "    <tr>\n",
              "      <th>0</th>\n",
              "      <td>2</td>\n",
              "      <td>31</td>\n",
              "      <td>1</td>\n",
              "      <td>49</td>\n",
              "      <td>0</td>\n",
              "      <td>57</td>\n",
              "      <td>9</td>\n",
              "      <td>0</td>\n",
              "      <td>1</td>\n",
              "      <td>0</td>\n",
              "      <td>...</td>\n",
              "      <td>0</td>\n",
              "      <td>0</td>\n",
              "      <td>1</td>\n",
              "      <td>0</td>\n",
              "      <td>0</td>\n",
              "      <td>0</td>\n",
              "      <td>0</td>\n",
              "      <td>0</td>\n",
              "      <td>0</td>\n",
              "      <td>1</td>\n",
              "    </tr>\n",
              "    <tr>\n",
              "      <th>1</th>\n",
              "      <td>3</td>\n",
              "      <td>31</td>\n",
              "      <td>0</td>\n",
              "      <td>21</td>\n",
              "      <td>0</td>\n",
              "      <td>78</td>\n",
              "      <td>4</td>\n",
              "      <td>0</td>\n",
              "      <td>0</td>\n",
              "      <td>1</td>\n",
              "      <td>...</td>\n",
              "      <td>0</td>\n",
              "      <td>0</td>\n",
              "      <td>0</td>\n",
              "      <td>0</td>\n",
              "      <td>0</td>\n",
              "      <td>0</td>\n",
              "      <td>1</td>\n",
              "      <td>0</td>\n",
              "      <td>0</td>\n",
              "      <td>0</td>\n",
              "    </tr>\n",
              "    <tr>\n",
              "      <th>2</th>\n",
              "      <td>1</td>\n",
              "      <td>16</td>\n",
              "      <td>1</td>\n",
              "      <td>26</td>\n",
              "      <td>0</td>\n",
              "      <td>25</td>\n",
              "      <td>4</td>\n",
              "      <td>1</td>\n",
              "      <td>1</td>\n",
              "      <td>0</td>\n",
              "      <td>...</td>\n",
              "      <td>0</td>\n",
              "      <td>1</td>\n",
              "      <td>0</td>\n",
              "      <td>0</td>\n",
              "      <td>0</td>\n",
              "      <td>0</td>\n",
              "      <td>0</td>\n",
              "      <td>1</td>\n",
              "      <td>0</td>\n",
              "      <td>0</td>\n",
              "    </tr>\n",
              "    <tr>\n",
              "      <th>3</th>\n",
              "      <td>0</td>\n",
              "      <td>29</td>\n",
              "      <td>1</td>\n",
              "      <td>34</td>\n",
              "      <td>0</td>\n",
              "      <td>1</td>\n",
              "      <td>1</td>\n",
              "      <td>0</td>\n",
              "      <td>0</td>\n",
              "      <td>1</td>\n",
              "      <td>...</td>\n",
              "      <td>0</td>\n",
              "      <td>0</td>\n",
              "      <td>0</td>\n",
              "      <td>0</td>\n",
              "      <td>0</td>\n",
              "      <td>0</td>\n",
              "      <td>0</td>\n",
              "      <td>1</td>\n",
              "      <td>0</td>\n",
              "      <td>0</td>\n",
              "    </tr>\n",
              "    <tr>\n",
              "      <th>4</th>\n",
              "      <td>2</td>\n",
              "      <td>26</td>\n",
              "      <td>1</td>\n",
              "      <td>33</td>\n",
              "      <td>0</td>\n",
              "      <td>59</td>\n",
              "      <td>4</td>\n",
              "      <td>0</td>\n",
              "      <td>0</td>\n",
              "      <td>0</td>\n",
              "      <td>...</td>\n",
              "      <td>0</td>\n",
              "      <td>0</td>\n",
              "      <td>1</td>\n",
              "      <td>0</td>\n",
              "      <td>0</td>\n",
              "      <td>0</td>\n",
              "      <td>0</td>\n",
              "      <td>0</td>\n",
              "      <td>0</td>\n",
              "      <td>1</td>\n",
              "    </tr>\n",
              "  </tbody>\n",
              "</table>\n",
              "<p>5 rows × 201 columns</p>\n",
              "</div>\n",
              "      <button class=\"colab-df-convert\" onclick=\"convertToInteractive('df-72da5162-9b73-4a3a-880d-e13585bf7bf3')\"\n",
              "              title=\"Convert this dataframe to an interactive table.\"\n",
              "              style=\"display:none;\">\n",
              "        \n",
              "  <svg xmlns=\"http://www.w3.org/2000/svg\" height=\"24px\"viewBox=\"0 0 24 24\"\n",
              "       width=\"24px\">\n",
              "    <path d=\"M0 0h24v24H0V0z\" fill=\"none\"/>\n",
              "    <path d=\"M18.56 5.44l.94 2.06.94-2.06 2.06-.94-2.06-.94-.94-2.06-.94 2.06-2.06.94zm-11 1L8.5 8.5l.94-2.06 2.06-.94-2.06-.94L8.5 2.5l-.94 2.06-2.06.94zm10 10l.94 2.06.94-2.06 2.06-.94-2.06-.94-.94-2.06-.94 2.06-2.06.94z\"/><path d=\"M17.41 7.96l-1.37-1.37c-.4-.4-.92-.59-1.43-.59-.52 0-1.04.2-1.43.59L10.3 9.45l-7.72 7.72c-.78.78-.78 2.05 0 2.83L4 21.41c.39.39.9.59 1.41.59.51 0 1.02-.2 1.41-.59l7.78-7.78 2.81-2.81c.8-.78.8-2.07 0-2.86zM5.41 20L4 18.59l7.72-7.72 1.47 1.35L5.41 20z\"/>\n",
              "  </svg>\n",
              "      </button>\n",
              "      \n",
              "  <style>\n",
              "    .colab-df-container {\n",
              "      display:flex;\n",
              "      flex-wrap:wrap;\n",
              "      gap: 12px;\n",
              "    }\n",
              "\n",
              "    .colab-df-convert {\n",
              "      background-color: #E8F0FE;\n",
              "      border: none;\n",
              "      border-radius: 50%;\n",
              "      cursor: pointer;\n",
              "      display: none;\n",
              "      fill: #1967D2;\n",
              "      height: 32px;\n",
              "      padding: 0 0 0 0;\n",
              "      width: 32px;\n",
              "    }\n",
              "\n",
              "    .colab-df-convert:hover {\n",
              "      background-color: #E2EBFA;\n",
              "      box-shadow: 0px 1px 2px rgba(60, 64, 67, 0.3), 0px 1px 3px 1px rgba(60, 64, 67, 0.15);\n",
              "      fill: #174EA6;\n",
              "    }\n",
              "\n",
              "    [theme=dark] .colab-df-convert {\n",
              "      background-color: #3B4455;\n",
              "      fill: #D2E3FC;\n",
              "    }\n",
              "\n",
              "    [theme=dark] .colab-df-convert:hover {\n",
              "      background-color: #434B5C;\n",
              "      box-shadow: 0px 1px 3px 1px rgba(0, 0, 0, 0.15);\n",
              "      filter: drop-shadow(0px 1px 2px rgba(0, 0, 0, 0.3));\n",
              "      fill: #FFFFFF;\n",
              "    }\n",
              "  </style>\n",
              "\n",
              "      <script>\n",
              "        const buttonEl =\n",
              "          document.querySelector('#df-72da5162-9b73-4a3a-880d-e13585bf7bf3 button.colab-df-convert');\n",
              "        buttonEl.style.display =\n",
              "          google.colab.kernel.accessAllowed ? 'block' : 'none';\n",
              "\n",
              "        async function convertToInteractive(key) {\n",
              "          const element = document.querySelector('#df-72da5162-9b73-4a3a-880d-e13585bf7bf3');\n",
              "          const dataTable =\n",
              "            await google.colab.kernel.invokeFunction('convertToInteractive',\n",
              "                                                     [key], {});\n",
              "          if (!dataTable) return;\n",
              "\n",
              "          const docLinkHtml = 'Like what you see? Visit the ' +\n",
              "            '<a target=\"_blank\" href=https://colab.research.google.com/notebooks/data_table.ipynb>data table notebook</a>'\n",
              "            + ' to learn more about interactive tables.';\n",
              "          element.innerHTML = '';\n",
              "          dataTable['output_type'] = 'display_data';\n",
              "          await google.colab.output.renderOutput(dataTable, element);\n",
              "          const docLink = document.createElement('div');\n",
              "          docLink.innerHTML = docLinkHtml;\n",
              "          element.appendChild(docLink);\n",
              "        }\n",
              "      </script>\n",
              "    </div>\n",
              "  </div>\n",
              "  "
            ],
            "text/plain": [
              "   elapsed_time  purchase_value  sex  age  class  signup_to_purchase  month  \\\n",
              "0             2              31    1   49      0                  57      9   \n",
              "1             3              31    0   21      0                  78      4   \n",
              "2             1              16    1   26      0                  25      4   \n",
              "3             0              29    1   34      0                   1      1   \n",
              "4             2              26    1   33      0                  59      4   \n",
              "\n",
              "   weekend_or_not  source_Direct  source_SEO  ...  weekday_Sat  weekday_Sun  \\\n",
              "0               0              1           0  ...            0            0   \n",
              "1               0              0           1  ...            0            0   \n",
              "2               1              1           0  ...            0            1   \n",
              "3               0              0           1  ...            0            0   \n",
              "4               0              0           0  ...            0            0   \n",
              "\n",
              "   weekday_Thu  weekday_Tue  weekday_Wed  part_of_day_Eve  \\\n",
              "0            1            0            0                0   \n",
              "1            0            0            0                0   \n",
              "2            0            0            0                0   \n",
              "3            0            0            0                0   \n",
              "4            1            0            0                0   \n",
              "\n",
              "   part_of_day_Late Night  part_of_day_Morning  part_of_day_Night  \\\n",
              "0                       0                    0                  0   \n",
              "1                       1                    0                  0   \n",
              "2                       0                    1                  0   \n",
              "3                       0                    1                  0   \n",
              "4                       0                    0                  0   \n",
              "\n",
              "   part_of_day_Noon  \n",
              "0                 1  \n",
              "1                 0  \n",
              "2                 0  \n",
              "3                 0  \n",
              "4                 1  \n",
              "\n",
              "[5 rows x 201 columns]"
            ]
          },
          "metadata": {},
          "execution_count": 163
        }
      ]
    },
    {
      "cell_type": "markdown",
      "source": [
        "### Standardization:"
      ],
      "metadata": {
        "id": "G-0uUgsox2d_"
      }
    },
    {
      "cell_type": "markdown",
      "source": [
        "Standardizing the numerical features which are not 0s and 1s"
      ],
      "metadata": {
        "id": "o_guDhv-x55h"
      }
    },
    {
      "cell_type": "code",
      "source": [
        "from sklearn.preprocessing import StandardScaler\n",
        "cols_to_scale = ['purchase_value', 'age', 'signup_to_purchase']\n",
        "scaler = StandardScaler()\n",
        "scaler.fit(df[cols_to_scale])\n",
        "df[cols_to_scale] = scaler.transform(df[cols_to_scale])"
      ],
      "metadata": {
        "id": "Stc4xtheheZ9"
      },
      "execution_count": 164,
      "outputs": []
    },
    {
      "cell_type": "markdown",
      "source": [
        "Extracting X (independent variables) and y (target variable) from the data"
      ],
      "metadata": {
        "id": "Rt40BMRtyIem"
      }
    },
    {
      "cell_type": "code",
      "source": [
        "X = df.drop('class',axis=1)\n",
        "y = df['class']"
      ],
      "metadata": {
        "id": "v7EhuqT-7_q1"
      },
      "execution_count": 165,
      "outputs": []
    },
    {
      "cell_type": "code",
      "source": [
        "X.shape"
      ],
      "metadata": {
        "colab": {
          "base_uri": "https://localhost:8080/"
        },
        "id": "UJ67HR6VyXxM",
        "outputId": "9a5f37ca-cd6b-41b3-f798-ddb4a67e1e8b"
      },
      "execution_count": 166,
      "outputs": [
        {
          "output_type": "execute_result",
          "data": {
            "text/plain": [
              "(120000, 200)"
            ]
          },
          "metadata": {},
          "execution_count": 166
        }
      ]
    },
    {
      "cell_type": "markdown",
      "source": [
        "### Principal Component Analysis (Dimensionality reduction):"
      ],
      "metadata": {
        "id": "lVInktxUy5hN"
      }
    },
    {
      "cell_type": "markdown",
      "source": [
        "Initially, I tried to run with the actual data without PCA. Since the data contains 200 independent variables and 120,000 rows, it is taking hours to train some ML models. So, PCA is performed for dimensionality reduction. This also helps to filter the most important features from the dataset."
      ],
      "metadata": {
        "id": "hhTWaXibyQxW"
      }
    },
    {
      "cell_type": "code",
      "source": [
        "from sklearn.decomposition import PCA\n",
        "pca=PCA(n_components=4)"
      ],
      "metadata": {
        "id": "oeRxIlsRjj4c"
      },
      "execution_count": 167,
      "outputs": []
    },
    {
      "cell_type": "markdown",
      "source": [
        "Let's take the most important 4 features for building the machine learning model."
      ],
      "metadata": {
        "id": "LQIcvpMEzD6S"
      }
    },
    {
      "cell_type": "code",
      "source": [
        "pca.fit(X)"
      ],
      "metadata": {
        "colab": {
          "base_uri": "https://localhost:8080/"
        },
        "id": "Oll5-J7hjy_j",
        "outputId": "1a077895-bbcf-4bc0-bf3d-8cf1d76c1454"
      },
      "execution_count": 168,
      "outputs": [
        {
          "output_type": "execute_result",
          "data": {
            "text/plain": [
              "PCA(n_components=4)"
            ]
          },
          "metadata": {},
          "execution_count": 168
        }
      ]
    },
    {
      "cell_type": "code",
      "source": [
        "X=pca.transform(X)"
      ],
      "metadata": {
        "id": "AyK-6q-0j1A5"
      },
      "execution_count": 169,
      "outputs": []
    },
    {
      "cell_type": "code",
      "source": [
        "print(X.shape)"
      ],
      "metadata": {
        "colab": {
          "base_uri": "https://localhost:8080/"
        },
        "id": "2s0Xx4RMj46V",
        "outputId": "aac9de70-2620-4f81-d7f7-6f4596250ad6"
      },
      "execution_count": 170,
      "outputs": [
        {
          "output_type": "stream",
          "name": "stdout",
          "text": [
            "(120000, 4)\n"
          ]
        }
      ]
    },
    {
      "cell_type": "code",
      "source": [
        "PC_values = np.arange(pca.n_components_) + 1\n",
        "plt.plot(PC_values, pca.explained_variance_ratio_, 'o-', linewidth=2, color='blue')\n",
        "plt.title('Scree Plot')\n",
        "plt.xlabel('Principal Component')\n",
        "plt.ylabel('Variance Explained')\n",
        "plt.show()"
      ],
      "metadata": {
        "colab": {
          "base_uri": "https://localhost:8080/",
          "height": 295
        },
        "id": "ZYCQfkkbj7Ms",
        "outputId": "a839348e-5d46-48ce-8345-8d2ee52a8825"
      },
      "execution_count": 171,
      "outputs": [
        {
          "output_type": "display_data",
          "data": {
            "image/png": "[encoded data removed]",
            "text/plain": [
              "<Figure size 432x288 with 1 Axes>"
            ]
          },
          "metadata": {
            "needs_background": "light"
          }
        }
      ]
    },
    {
      "cell_type": "code",
      "source": [
        "pca.explained_variance_ratio_.sum()"
      ],
      "metadata": {
        "colab": {
          "base_uri": "https://localhost:8080/"
        },
        "id": "QoCWulQSzTZD",
        "outputId": "0e1b958b-5873-4861-b89f-4e59c6fc3467"
      },
      "execution_count": 172,
      "outputs": [
        {
          "output_type": "execute_result",
          "data": {
            "text/plain": [
              "0.7608439631432706"
            ]
          },
          "metadata": {},
          "execution_count": 172
        }
      ]
    },
    {
      "cell_type": "markdown",
      "source": [
        "76% of the variance is captured by applying PCA of 4. Though, this is not ideal, let's proceed with it and see how it works to build machine learning models."
      ],
      "metadata": {
        "id": "drHANCwGzeiC"
      }
    },
    {
      "cell_type": "markdown",
      "source": [
        "## Classification Machine Learning models:"
      ],
      "metadata": {
        "id": "yo8kmscYzy_n"
      }
    },
    {
      "cell_type": "markdown",
      "source": [
        "### Splitting the dataset into Train and Test:"
      ],
      "metadata": {
        "id": "ORpIxbZHz3Dw"
      }
    },
    {
      "cell_type": "code",
      "source": [
        "from sklearn.model_selection import train_test_split\n",
        "X_train, X_test, y_train, y_test = train_test_split(X,y.values, test_size=0.2, random_state=0)"
      ],
      "metadata": {
        "id": "fHPI16_CGwQv"
      },
      "execution_count": 173,
      "outputs": []
    },
    {
      "cell_type": "markdown",
      "source": [
        "### 1. Logistic Regression:"
      ],
      "metadata": {
        "id": "LhC4sSTiz-0Y"
      }
    },
    {
      "cell_type": "code",
      "source": [
        "from sklearn.linear_model import LogisticRegression\n",
        "classifier = LogisticRegression(random_state = 0)\n",
        "classifier.fit(X_train, y_train)"
      ],
      "metadata": {
        "colab": {
          "base_uri": "https://localhost:8080/"
        },
        "id": "oSepwwERG2E_",
        "outputId": "dc74f0ae-43e3-40de-a877-aebd39cdadf5"
      },
      "execution_count": 174,
      "outputs": [
        {
          "output_type": "execute_result",
          "data": {
            "text/plain": [
              "LogisticRegression(random_state=0)"
            ]
          },
          "metadata": {},
          "execution_count": 174
        }
      ]
    },
    {
      "cell_type": "code",
      "source": [
        "y_pred = classifier.predict(X_test)"
      ],
      "metadata": {
        "id": "uXCLszYYHgQa"
      },
      "execution_count": 175,
      "outputs": []
    },
    {
      "cell_type": "code",
      "source": [
        "from sklearn.metrics import confusion_matrix, classification_report\n",
        "cm = confusion_matrix(y_test, y_pred)\n",
        "print(cm)"
      ],
      "metadata": {
        "colab": {
          "base_uri": "https://localhost:8080/"
        },
        "id": "7FKZ9FptHvLu",
        "outputId": "de8d63a5-57b8-4caf-b4d2-2520655ff73c"
      },
      "execution_count": 176,
      "outputs": [
        {
          "output_type": "stream",
          "name": "stdout",
          "text": [
            "[[21739     0]\n",
            " [ 2261     0]]\n"
          ]
        }
      ]
    },
    {
      "cell_type": "code",
      "source": [
        "cr = classification_report(y_test, y_pred)\n",
        "print(cr)"
      ],
      "metadata": {
        "colab": {
          "base_uri": "https://localhost:8080/"
        },
        "id": "S3mbMlXnHxQI",
        "outputId": "b0222f91-16e9-4790-a6f0-981a32c99e33"
      },
      "execution_count": 177,
      "outputs": [
        {
          "output_type": "stream",
          "name": "stdout",
          "text": [
            "              precision    recall  f1-score   support\n",
            "\n",
            "           0       0.91      1.00      0.95     21739\n",
            "           1       0.00      0.00      0.00      2261\n",
            "\n",
            "    accuracy                           0.91     24000\n",
            "   macro avg       0.45      0.50      0.48     24000\n",
            "weighted avg       0.82      0.91      0.86     24000\n",
            "\n"
          ]
        },
        {
          "output_type": "stream",
          "name": "stderr",
          "text": [
            "/usr/local/lib/python3.7/dist-packages/sklearn/metrics/_classification.py:1318: UndefinedMetricWarning: Precision and F-score are ill-defined and being set to 0.0 in labels with no predicted samples. Use `zero_division` parameter to control this behavior.\n",
            "  _warn_prf(average, modifier, msg_start, len(result))\n",
            "/usr/local/lib/python3.7/dist-packages/sklearn/metrics/_classification.py:1318: UndefinedMetricWarning: Precision and F-score are ill-defined and being set to 0.0 in labels with no predicted samples. Use `zero_division` parameter to control this behavior.\n",
            "  _warn_prf(average, modifier, msg_start, len(result))\n",
            "/usr/local/lib/python3.7/dist-packages/sklearn/metrics/_classification.py:1318: UndefinedMetricWarning: Precision and F-score are ill-defined and being set to 0.0 in labels with no predicted samples. Use `zero_division` parameter to control this behavior.\n",
            "  _warn_prf(average, modifier, msg_start, len(result))\n"
          ]
        }
      ]
    },
    {
      "cell_type": "markdown",
      "source": [
        "Though Logistic regression would be the basic model for Binary Classification, the results we obtained are good enough."
      ],
      "metadata": {
        "id": "w9jjpQuk0GsG"
      }
    },
    {
      "cell_type": "markdown",
      "source": [
        "Since, this is a fraud detection problem and the dataset is imbalanced, evaluating performance of the model using \"accuarcy\" won't be helpful.\n",
        "\n",
        "We can look at \"Recall\" and \"Precision\" to evaluate metric of the model. Since, \"F1 score\" utilizes both recall and precision into account, let's use it as a primary evaluation metric here."
      ],
      "metadata": {
        "id": "hkreND470Sk8"
      }
    },
    {
      "cell_type": "markdown",
      "source": [
        "### 2. K Nearest Neighbors:"
      ],
      "metadata": {
        "id": "gbkV5IzB1QvT"
      }
    },
    {
      "cell_type": "code",
      "source": [
        "from sklearn.neighbors import KNeighborsClassifier\n",
        "classifier = KNeighborsClassifier(n_neighbors = 4, metric = 'minkowski', p = 2)\n",
        "classifier.fit(X_train, y_train)"
      ],
      "metadata": {
        "colab": {
          "base_uri": "https://localhost:8080/"
        },
        "id": "K1QDBpQsHzrR",
        "outputId": "5802a5e0-2b2b-4586-f4ea-cf31418c3ad2"
      },
      "execution_count": 178,
      "outputs": [
        {
          "output_type": "execute_result",
          "data": {
            "text/plain": [
              "KNeighborsClassifier(n_neighbors=4)"
            ]
          },
          "metadata": {},
          "execution_count": 178
        }
      ]
    },
    {
      "cell_type": "code",
      "source": [
        "y_pred = classifier.predict(X_test)"
      ],
      "metadata": {
        "id": "FnPq1lppIqWR"
      },
      "execution_count": 179,
      "outputs": []
    },
    {
      "cell_type": "code",
      "source": [
        "cm = confusion_matrix(y_test, y_pred)\n",
        "print(cm)"
      ],
      "metadata": {
        "colab": {
          "base_uri": "https://localhost:8080/"
        },
        "id": "QY4A3PNHIuP5",
        "outputId": "463d312e-f542-4e4c-c0b4-de596188acb4"
      },
      "execution_count": 180,
      "outputs": [
        {
          "output_type": "stream",
          "name": "stdout",
          "text": [
            "[[21622   117]\n",
            " [ 1057  1204]]\n"
          ]
        }
      ]
    },
    {
      "cell_type": "code",
      "source": [
        "cr = classification_report(y_test, y_pred)\n",
        "print(cr)"
      ],
      "metadata": {
        "colab": {
          "base_uri": "https://localhost:8080/"
        },
        "id": "TzF4dyPsI2AR",
        "outputId": "ec0c9c00-59f9-4f19-aaf6-44a3a245cf70"
      },
      "execution_count": 181,
      "outputs": [
        {
          "output_type": "stream",
          "name": "stdout",
          "text": [
            "              precision    recall  f1-score   support\n",
            "\n",
            "           0       0.95      0.99      0.97     21739\n",
            "           1       0.91      0.53      0.67      2261\n",
            "\n",
            "    accuracy                           0.95     24000\n",
            "   macro avg       0.93      0.76      0.82     24000\n",
            "weighted avg       0.95      0.95      0.95     24000\n",
            "\n"
          ]
        }
      ]
    },
    {
      "cell_type": "markdown",
      "source": [
        "To find the best k-value, let's loop through k-values from 1 to 40."
      ],
      "metadata": {
        "id": "fs89rywi2EWC"
      }
    },
    {
      "cell_type": "code",
      "source": [
        "error_rate = []\n",
        "\n",
        "# Will take some time\n",
        "for i in range(1,40):\n",
        "    \n",
        "    knn = KNeighborsClassifier(n_neighbors=i)\n",
        "    knn.fit(X_train,y_train)\n",
        "    pred_i = knn.predict(X_test)\n",
        "    error_rate.append(np.mean(pred_i != y_test))"
      ],
      "metadata": {
        "id": "r7oteBdzJG3D"
      },
      "execution_count": 182,
      "outputs": []
    },
    {
      "cell_type": "code",
      "source": [
        "plt.figure(figsize=(10,6))\n",
        "plt.plot(range(1,40),error_rate,color='blue', linestyle='dashed', marker='o',\n",
        "         markerfacecolor='red', markersize=10)\n",
        "plt.title('Error Rate vs. K Value')\n",
        "plt.xlabel('K')\n",
        "plt.ylabel('Error Rate')"
      ],
      "metadata": {
        "id": "XfhVD2aHJRBz",
        "colab": {
          "base_uri": "https://localhost:8080/",
          "height": 422
        },
        "outputId": "9349018d-a857-4465-8a58-5436205c4092"
      },
      "execution_count": 183,
      "outputs": [
        {
          "output_type": "execute_result",
          "data": {
            "text/plain": [
              "Text(0, 0.5, 'Error Rate')"
            ]
          },
          "metadata": {},
          "execution_count": 183
        },
        {
          "output_type": "display_data",
          "data": {
            "image/png": "[encoded data removed]",
            "text/plain": [
              "<Figure size 720x432 with 1 Axes>"
            ]
          },
          "metadata": {
            "needs_background": "light"
          }
        }
      ]
    },
    {
      "cell_type": "markdown",
      "source": [
        "We can see that k=4 has the minimum error rate. Coincidentally, we have built out model using k=4."
      ],
      "metadata": {
        "id": "kfYa_HSj2T6l"
      }
    },
    {
      "cell_type": "markdown",
      "source": [
        "### 3. Support Vector Classifier:"
      ],
      "metadata": {
        "id": "1H8tH7c12fTp"
      }
    },
    {
      "cell_type": "code",
      "source": [
        "from sklearn.svm import SVC\n",
        "classifier = SVC(kernel = 'linear', random_state = 0)\n",
        "classifier.fit(X_train, y_train)"
      ],
      "metadata": {
        "colab": {
          "base_uri": "https://localhost:8080/"
        },
        "id": "BHUFF0wVR_ey",
        "outputId": "582b0b88-4852-4371-fe91-ba812715c327"
      },
      "execution_count": 184,
      "outputs": [
        {
          "output_type": "execute_result",
          "data": {
            "text/plain": [
              "SVC(kernel='linear', random_state=0)"
            ]
          },
          "metadata": {},
          "execution_count": 184
        }
      ]
    },
    {
      "cell_type": "code",
      "source": [
        "y_pred = classifier.predict(X_test)"
      ],
      "metadata": {
        "id": "-nr7lrrTS9rk"
      },
      "execution_count": 185,
      "outputs": []
    },
    {
      "cell_type": "code",
      "source": [
        "cm = confusion_matrix(y_test, y_pred)\n",
        "print(cm)"
      ],
      "metadata": {
        "colab": {
          "base_uri": "https://localhost:8080/"
        },
        "id": "ksEkGBAjTePC",
        "outputId": "331198af-f815-4cea-a1af-2ac4fbcaf6f6"
      },
      "execution_count": 186,
      "outputs": [
        {
          "output_type": "stream",
          "name": "stdout",
          "text": [
            "[[21739     0]\n",
            " [ 2261     0]]\n"
          ]
        }
      ]
    },
    {
      "cell_type": "code",
      "source": [
        "cr = classification_report(y_test, y_pred)\n",
        "print(cr)"
      ],
      "metadata": {
        "colab": {
          "base_uri": "https://localhost:8080/"
        },
        "id": "Rgaa9sVpTgU8",
        "outputId": "841a28c3-6336-4ada-d2f8-9b7c28dc94df"
      },
      "execution_count": 187,
      "outputs": [
        {
          "output_type": "stream",
          "name": "stdout",
          "text": [
            "              precision    recall  f1-score   support\n",
            "\n",
            "           0       0.91      1.00      0.95     21739\n",
            "           1       0.00      0.00      0.00      2261\n",
            "\n",
            "    accuracy                           0.91     24000\n",
            "   macro avg       0.45      0.50      0.48     24000\n",
            "weighted avg       0.82      0.91      0.86     24000\n",
            "\n"
          ]
        },
        {
          "output_type": "stream",
          "name": "stderr",
          "text": [
            "/usr/local/lib/python3.7/dist-packages/sklearn/metrics/_classification.py:1318: UndefinedMetricWarning: Precision and F-score are ill-defined and being set to 0.0 in labels with no predicted samples. Use `zero_division` parameter to control this behavior.\n",
            "  _warn_prf(average, modifier, msg_start, len(result))\n",
            "/usr/local/lib/python3.7/dist-packages/sklearn/metrics/_classification.py:1318: UndefinedMetricWarning: Precision and F-score are ill-defined and being set to 0.0 in labels with no predicted samples. Use `zero_division` parameter to control this behavior.\n",
            "  _warn_prf(average, modifier, msg_start, len(result))\n",
            "/usr/local/lib/python3.7/dist-packages/sklearn/metrics/_classification.py:1318: UndefinedMetricWarning: Precision and F-score are ill-defined and being set to 0.0 in labels with no predicted samples. Use `zero_division` parameter to control this behavior.\n",
            "  _warn_prf(average, modifier, msg_start, len(result))\n"
          ]
        }
      ]
    },
    {
      "cell_type": "markdown",
      "source": [
        "### 4. Naive Bayes Classifier:"
      ],
      "metadata": {
        "id": "QDo5yA9m2xRZ"
      }
    },
    {
      "cell_type": "code",
      "source": [
        "from sklearn.naive_bayes import GaussianNB\n",
        "classifier = GaussianNB()\n",
        "classifier.fit(X_train, y_train)"
      ],
      "metadata": {
        "colab": {
          "base_uri": "https://localhost:8080/"
        },
        "id": "MtisT6-_mjUQ",
        "outputId": "a170e272-2f3a-4319-8818-3adb9cd5f28b"
      },
      "execution_count": 188,
      "outputs": [
        {
          "output_type": "execute_result",
          "data": {
            "text/plain": [
              "GaussianNB()"
            ]
          },
          "metadata": {},
          "execution_count": 188
        }
      ]
    },
    {
      "cell_type": "code",
      "source": [
        "y_pred = classifier.predict(X_test)"
      ],
      "metadata": {
        "id": "4DmNOjF_mp1T"
      },
      "execution_count": 189,
      "outputs": []
    },
    {
      "cell_type": "code",
      "source": [
        "cm = confusion_matrix(y_test, y_pred)\n",
        "print(cm)"
      ],
      "metadata": {
        "colab": {
          "base_uri": "https://localhost:8080/"
        },
        "id": "vfnNB4PSmryU",
        "outputId": "ef98bd93-b1c1-4bf4-ad12-5f561b3b385f"
      },
      "execution_count": 190,
      "outputs": [
        {
          "output_type": "stream",
          "name": "stdout",
          "text": [
            "[[21502   237]\n",
            " [ 1044  1217]]\n"
          ]
        }
      ]
    },
    {
      "cell_type": "code",
      "source": [
        "cr = classification_report(y_test, y_pred)\n",
        "print(cr)"
      ],
      "metadata": {
        "colab": {
          "base_uri": "https://localhost:8080/"
        },
        "id": "m57vdqeOmtlI",
        "outputId": "1e73d03d-d199-497d-9618-a07b26f96c24"
      },
      "execution_count": 191,
      "outputs": [
        {
          "output_type": "stream",
          "name": "stdout",
          "text": [
            "              precision    recall  f1-score   support\n",
            "\n",
            "           0       0.95      0.99      0.97     21739\n",
            "           1       0.84      0.54      0.66      2261\n",
            "\n",
            "    accuracy                           0.95     24000\n",
            "   macro avg       0.90      0.76      0.81     24000\n",
            "weighted avg       0.94      0.95      0.94     24000\n",
            "\n"
          ]
        }
      ]
    },
    {
      "cell_type": "markdown",
      "source": [
        "### 5. Decision Tree Classifier:"
      ],
      "metadata": {
        "id": "nlCV7uEZ22Xd"
      }
    },
    {
      "cell_type": "code",
      "source": [
        "from sklearn.tree import DecisionTreeClassifier\n",
        "classifier = DecisionTreeClassifier(criterion = 'entropy', random_state = 0)\n",
        "classifier.fit(X_train, y_train)"
      ],
      "metadata": {
        "colab": {
          "base_uri": "https://localhost:8080/"
        },
        "id": "RIxKmkdKmv_9",
        "outputId": "f2283a94-7117-465c-cd67-425ec5a54a59"
      },
      "execution_count": 192,
      "outputs": [
        {
          "output_type": "execute_result",
          "data": {
            "text/plain": [
              "DecisionTreeClassifier(criterion='entropy', random_state=0)"
            ]
          },
          "metadata": {},
          "execution_count": 192
        }
      ]
    },
    {
      "cell_type": "code",
      "source": [
        "y_pred = classifier.predict(X_test)"
      ],
      "metadata": {
        "id": "x4iX1py1my1E"
      },
      "execution_count": 193,
      "outputs": []
    },
    {
      "cell_type": "code",
      "source": [
        "from sklearn.metrics import confusion_matrix, classification_report\n",
        "cm = confusion_matrix(y_test, y_pred)\n",
        "print(cm)"
      ],
      "metadata": {
        "colab": {
          "base_uri": "https://localhost:8080/"
        },
        "id": "vsK5IFnAm2ag",
        "outputId": "e116c20a-c80a-42e1-a803-5c5fefa17613"
      },
      "execution_count": 194,
      "outputs": [
        {
          "output_type": "stream",
          "name": "stdout",
          "text": [
            "[[20657  1082]\n",
            " [ 1001  1260]]\n"
          ]
        }
      ]
    },
    {
      "cell_type": "code",
      "source": [
        "cr = classification_report(y_test, y_pred)\n",
        "print(cr)"
      ],
      "metadata": {
        "colab": {
          "base_uri": "https://localhost:8080/"
        },
        "id": "xyrlo9klm4aA",
        "outputId": "3ef54587-b1e2-41a3-ce3b-7c4d4040203e"
      },
      "execution_count": 195,
      "outputs": [
        {
          "output_type": "stream",
          "name": "stdout",
          "text": [
            "              precision    recall  f1-score   support\n",
            "\n",
            "           0       0.95      0.95      0.95     21739\n",
            "           1       0.54      0.56      0.55      2261\n",
            "\n",
            "    accuracy                           0.91     24000\n",
            "   macro avg       0.75      0.75      0.75     24000\n",
            "weighted avg       0.91      0.91      0.91     24000\n",
            "\n"
          ]
        }
      ]
    },
    {
      "cell_type": "markdown",
      "source": [
        "### 6. Random Forest Classifier:"
      ],
      "metadata": {
        "id": "NGQ4G3aP27Nk"
      }
    },
    {
      "cell_type": "code",
      "source": [
        "from sklearn.ensemble import RandomForestClassifier\n",
        "classifier = RandomForestClassifier(n_estimators = 10, criterion = 'entropy', random_state = 0)\n",
        "classifier.fit(X_train, y_train)"
      ],
      "metadata": {
        "colab": {
          "base_uri": "https://localhost:8080/"
        },
        "id": "S13MMdupm6N9",
        "outputId": "94485a5e-322a-4ffe-cae4-545adab77060"
      },
      "execution_count": 196,
      "outputs": [
        {
          "output_type": "execute_result",
          "data": {
            "text/plain": [
              "RandomForestClassifier(criterion='entropy', n_estimators=10, random_state=0)"
            ]
          },
          "metadata": {},
          "execution_count": 196
        }
      ]
    },
    {
      "cell_type": "code",
      "source": [
        "y_pred = classifier.predict(X_test)"
      ],
      "metadata": {
        "id": "MwCpznA3m_V9"
      },
      "execution_count": 197,
      "outputs": []
    },
    {
      "cell_type": "code",
      "source": [
        "cm = confusion_matrix(y_test, y_pred)\n",
        "print(cm)"
      ],
      "metadata": {
        "colab": {
          "base_uri": "https://localhost:8080/"
        },
        "id": "1G90LirAnECp",
        "outputId": "72afacbd-7b3d-405c-aba6-074c51ccce12"
      },
      "execution_count": 198,
      "outputs": [
        {
          "output_type": "stream",
          "name": "stdout",
          "text": [
            "[[21704    35]\n",
            " [ 1052  1209]]\n"
          ]
        }
      ]
    },
    {
      "cell_type": "code",
      "source": [
        "cr = classification_report(y_test, y_pred)\n",
        "print(cr)"
      ],
      "metadata": {
        "colab": {
          "base_uri": "https://localhost:8080/"
        },
        "id": "W2bk8lu0nEjQ",
        "outputId": "a69bc8b9-f483-4e6b-ea05-8e78d41fec89"
      },
      "execution_count": 199,
      "outputs": [
        {
          "output_type": "stream",
          "name": "stdout",
          "text": [
            "              precision    recall  f1-score   support\n",
            "\n",
            "           0       0.95      1.00      0.98     21739\n",
            "           1       0.97      0.53      0.69      2261\n",
            "\n",
            "    accuracy                           0.95     24000\n",
            "   macro avg       0.96      0.77      0.83     24000\n",
            "weighted avg       0.96      0.95      0.95     24000\n",
            "\n"
          ]
        }
      ]
    },
    {
      "cell_type": "markdown",
      "source": [
        "### Hyper-parameter tuning of Random Forest Classifier using GridSearchCV:"
      ],
      "metadata": {
        "id": "_TYbBioL2_9E"
      }
    },
    {
      "cell_type": "code",
      "source": [
        "from sklearn.model_selection import GridSearchCV\n",
        "\n",
        "forest = RandomForestClassifier(random_state = 1)\n",
        "\n",
        "n_estimators = [100, 300]\n",
        "max_depth = [5, 8]\n",
        "\n",
        "hyperF = dict(n_estimators = n_estimators, max_depth = max_depth)\n",
        "\n",
        "gridF = GridSearchCV(forest, hyperF, cv = 3, verbose = 1, \n",
        "                      n_jobs = -1)\n",
        "bestF = gridF.fit(X_train, y_train)"
      ],
      "metadata": {
        "colab": {
          "base_uri": "https://localhost:8080/"
        },
        "id": "VPor9eSCnGYW",
        "outputId": "adc04040-5669-457b-d884-74883ffdff72"
      },
      "execution_count": 200,
      "outputs": [
        {
          "output_type": "stream",
          "name": "stdout",
          "text": [
            "Fitting 3 folds for each of 4 candidates, totalling 12 fits\n"
          ]
        }
      ]
    },
    {
      "cell_type": "code",
      "source": [
        "bestF.best_params_"
      ],
      "metadata": {
        "colab": {
          "base_uri": "https://localhost:8080/"
        },
        "id": "uc5EOGsjovDf",
        "outputId": "7b23ba2a-b513-4c95-aaf3-c9f31075459b"
      },
      "execution_count": 201,
      "outputs": [
        {
          "output_type": "execute_result",
          "data": {
            "text/plain": [
              "{'max_depth': 8, 'n_estimators': 100}"
            ]
          },
          "metadata": {},
          "execution_count": 201
        }
      ]
    },
    {
      "cell_type": "markdown",
      "source": [
        "### Building the Random Forest Classifier using the best parameters obtained using Hyperparameter tuning:"
      ],
      "metadata": {
        "id": "S9E8qrBR3GFQ"
      }
    },
    {
      "cell_type": "code",
      "source": [
        "classifier = RandomForestClassifier(n_estimators = 100, max_depth = 8, criterion = 'entropy', random_state = 0)"
      ],
      "metadata": {
        "id": "yPcQAt5vrmnj"
      },
      "execution_count": 202,
      "outputs": []
    },
    {
      "cell_type": "code",
      "source": [
        "classifier.fit(X_train, y_train)"
      ],
      "metadata": {
        "colab": {
          "base_uri": "https://localhost:8080/"
        },
        "id": "xjhpwbYOryjx",
        "outputId": "f79fd868-d41c-4f72-80cb-8a795a2b0330"
      },
      "execution_count": 203,
      "outputs": [
        {
          "output_type": "execute_result",
          "data": {
            "text/plain": [
              "RandomForestClassifier(criterion='entropy', max_depth=8, random_state=0)"
            ]
          },
          "metadata": {},
          "execution_count": 203
        }
      ]
    },
    {
      "cell_type": "code",
      "source": [
        "y_pred = classifier.predict(X_test)"
      ],
      "metadata": {
        "id": "XMPR7dOdr1Zc"
      },
      "execution_count": 204,
      "outputs": []
    },
    {
      "cell_type": "code",
      "source": [
        "cm = confusion_matrix(y_test, y_pred)\n",
        "print(cm)"
      ],
      "metadata": {
        "colab": {
          "base_uri": "https://localhost:8080/"
        },
        "id": "WWsN6RV4r-bb",
        "outputId": "d0f4f527-8fd6-4e5c-c09d-fb784c02a699"
      },
      "execution_count": 205,
      "outputs": [
        {
          "output_type": "stream",
          "name": "stdout",
          "text": [
            "[[21720    19]\n",
            " [ 1053  1208]]\n"
          ]
        }
      ]
    },
    {
      "cell_type": "code",
      "source": [
        "cr = classification_report(y_test, y_pred)\n",
        "print(cr)"
      ],
      "metadata": {
        "colab": {
          "base_uri": "https://localhost:8080/"
        },
        "id": "qxooEQPhsAmE",
        "outputId": "2a235ff7-a8aa-41b1-f4c4-c9f332cab0be"
      },
      "execution_count": 206,
      "outputs": [
        {
          "output_type": "stream",
          "name": "stdout",
          "text": [
            "              precision    recall  f1-score   support\n",
            "\n",
            "           0       0.95      1.00      0.98     21739\n",
            "           1       0.98      0.53      0.69      2261\n",
            "\n",
            "    accuracy                           0.96     24000\n",
            "   macro avg       0.97      0.77      0.83     24000\n",
            "weighted avg       0.96      0.96      0.95     24000\n",
            "\n"
          ]
        }
      ]
    },
    {
      "cell_type": "markdown",
      "source": [
        "### 7. Neural Networks:"
      ],
      "metadata": {
        "id": "N5iglKvF3V5_"
      }
    },
    {
      "cell_type": "code",
      "source": [
        "X_train.shape"
      ],
      "metadata": {
        "colab": {
          "base_uri": "https://localhost:8080/"
        },
        "id": "K22g19N0sCp2",
        "outputId": "8dd97155-f10c-44aa-e0f7-ccbe900b8f51"
      },
      "execution_count": 207,
      "outputs": [
        {
          "output_type": "execute_result",
          "data": {
            "text/plain": [
              "(96000, 4)"
            ]
          },
          "metadata": {},
          "execution_count": 207
        }
      ]
    },
    {
      "cell_type": "code",
      "source": [
        "import keras\n",
        "from keras.models import Sequential\n",
        "from keras.layers import Dense\n",
        "from keras.layers import LeakyReLU,PReLU,ELU\n",
        "from keras.layers import Dropout\n",
        "from tensorflow import keras\n",
        "from tensorflow.keras import layers"
      ],
      "metadata": {
        "id": "uMClAKlOsJrr"
      },
      "execution_count": 208,
      "outputs": []
    },
    {
      "cell_type": "code",
      "source": [
        "classifier = Sequential()\n",
        "classifier.add(Dense(500, input_dim=4, activation= \"relu\"))\n",
        "classifier.add(Dense(100, activation= \"relu\"))\n",
        "classifier.add(Dense(50, activation= \"relu\"))\n",
        "classifier.add(Dense(1, activation= \"sigmoid\"))"
      ],
      "metadata": {
        "id": "0PmnQDULsM3J"
      },
      "execution_count": 209,
      "outputs": []
    },
    {
      "cell_type": "code",
      "source": [
        "classifier.compile(loss= \"binary_crossentropy\" , optimizer=\"adam\", metrics=[\"accuracy\"])\n",
        "classifier.fit(X_train, y_train, epochs=20)"
      ],
      "metadata": {
        "colab": {
          "base_uri": "https://localhost:8080/"
        },
        "id": "CKjlyP7usajl",
        "outputId": "050fb5a4-4f5a-462b-f747-2a6cf3d40053"
      },
      "execution_count": 210,
      "outputs": [
        {
          "output_type": "stream",
          "name": "stdout",
          "text": [
            "Epoch 1/20\n",
            "3000/3000 [==============================] - 10s 3ms/step - loss: 0.2113 - accuracy: 0.9441\n",
            "Epoch 2/20\n",
            "3000/3000 [==============================] - 9s 3ms/step - loss: 0.1960 - accuracy: 0.9508\n",
            "Epoch 3/20\n",
            "3000/3000 [==============================] - 9s 3ms/step - loss: 0.1920 - accuracy: 0.9523\n",
            "Epoch 4/20\n",
            "3000/3000 [==============================] - 9s 3ms/step - loss: 0.1911 - accuracy: 0.9524\n",
            "Epoch 5/20\n",
            "3000/3000 [==============================] - 10s 3ms/step - loss: 0.1889 - accuracy: 0.9530\n",
            "Epoch 6/20\n",
            "3000/3000 [==============================] - 10s 3ms/step - loss: 0.1884 - accuracy: 0.9531\n",
            "Epoch 7/20\n",
            "3000/3000 [==============================] - 9s 3ms/step - loss: 0.1882 - accuracy: 0.9533\n",
            "Epoch 8/20\n",
            "3000/3000 [==============================] - 9s 3ms/step - loss: 0.1875 - accuracy: 0.9532\n",
            "Epoch 9/20\n",
            "3000/3000 [==============================] - 9s 3ms/step - loss: 0.1872 - accuracy: 0.9536\n",
            "Epoch 10/20\n",
            "3000/3000 [==============================] - 9s 3ms/step - loss: 0.1872 - accuracy: 0.9535\n",
            "Epoch 11/20\n",
            "3000/3000 [==============================] - 9s 3ms/step - loss: 0.1867 - accuracy: 0.9537\n",
            "Epoch 12/20\n",
            "3000/3000 [==============================] - 9s 3ms/step - loss: 0.1868 - accuracy: 0.9538\n",
            "Epoch 13/20\n",
            "3000/3000 [==============================] - 10s 3ms/step - loss: 0.1871 - accuracy: 0.9536\n",
            "Epoch 14/20\n",
            "3000/3000 [==============================] - 9s 3ms/step - loss: 0.1870 - accuracy: 0.9535\n",
            "Epoch 15/20\n",
            "3000/3000 [==============================] - 9s 3ms/step - loss: 0.1867 - accuracy: 0.9538\n",
            "Epoch 16/20\n",
            "3000/3000 [==============================] - 10s 3ms/step - loss: 0.1860 - accuracy: 0.9539\n",
            "Epoch 17/20\n",
            "3000/3000 [==============================] - 10s 3ms/step - loss: 0.1867 - accuracy: 0.9537\n",
            "Epoch 18/20\n",
            "3000/3000 [==============================] - 9s 3ms/step - loss: 0.1866 - accuracy: 0.9538\n",
            "Epoch 19/20\n",
            "3000/3000 [==============================] - 10s 3ms/step - loss: 0.1867 - accuracy: 0.9537\n",
            "Epoch 20/20\n",
            "3000/3000 [==============================] - 10s 3ms/step - loss: 0.1860 - accuracy: 0.9540\n"
          ]
        },
        {
          "output_type": "execute_result",
          "data": {
            "text/plain": [
              "<keras.callbacks.History at 0x7f0208f14690>"
            ]
          },
          "metadata": {},
          "execution_count": 210
        }
      ]
    },
    {
      "cell_type": "code",
      "source": [
        "pred = (classifier.predict(X_test) > 0.5).astype(\"int32\")"
      ],
      "metadata": {
        "id": "UPgMLFO-s7ZN"
      },
      "execution_count": 211,
      "outputs": []
    },
    {
      "cell_type": "code",
      "source": [
        "pred"
      ],
      "metadata": {
        "colab": {
          "base_uri": "https://localhost:8080/"
        },
        "id": "_pcmAy15ukOW",
        "outputId": "046917e8-882b-460d-dd8f-c09982a5a3e6"
      },
      "execution_count": 212,
      "outputs": [
        {
          "output_type": "execute_result",
          "data": {
            "text/plain": [
              "array([[0],\n",
              "       [0],\n",
              "       [0],\n",
              "       ...,\n",
              "       [0],\n",
              "       [0],\n",
              "       [0]], dtype=int32)"
            ]
          },
          "metadata": {},
          "execution_count": 212
        }
      ]
    },
    {
      "cell_type": "code",
      "source": [
        "cm = confusion_matrix(y_test, pred)\n",
        "print(cm)"
      ],
      "metadata": {
        "colab": {
          "base_uri": "https://localhost:8080/"
        },
        "id": "QvCyYO2huvwm",
        "outputId": "a3dceb8d-4a64-48d6-eb92-5a4ee0e0112d"
      },
      "execution_count": 213,
      "outputs": [
        {
          "output_type": "stream",
          "name": "stdout",
          "text": [
            "[[21700    39]\n",
            " [ 1052  1209]]\n"
          ]
        }
      ]
    },
    {
      "cell_type": "code",
      "source": [
        "cr = classification_report(y_test, pred)\n",
        "print(cr)"
      ],
      "metadata": {
        "id": "DW-NSu5Eu-C1",
        "outputId": "3c2b1892-1c52-4cf9-874e-f8aee3ca9829",
        "colab": {
          "base_uri": "https://localhost:8080/"
        }
      },
      "execution_count": 214,
      "outputs": [
        {
          "output_type": "stream",
          "name": "stdout",
          "text": [
            "              precision    recall  f1-score   support\n",
            "\n",
            "           0       0.95      1.00      0.98     21739\n",
            "           1       0.97      0.53      0.69      2261\n",
            "\n",
            "    accuracy                           0.95     24000\n",
            "   macro avg       0.96      0.77      0.83     24000\n",
            "weighted avg       0.96      0.95      0.95     24000\n",
            "\n"
          ]
        }
      ]
    },
    {
      "cell_type": "markdown",
      "source": [
        "### Hyper-parameter tuning to find the best combination of layers:"
      ],
      "metadata": {
        "id": "SElN644j3dG2"
      }
    },
    {
      "cell_type": "code",
      "source": [
        "!pip install -U keras-tuner\n",
        "from kerastuner.tuners import RandomSearch"
      ],
      "metadata": {
        "id": "OfhlP82KvAA2",
        "colab": {
          "base_uri": "https://localhost:8080/"
        },
        "outputId": "d073e57a-8d4c-4139-d7d8-b8e2805ef721"
      },
      "execution_count": 215,
      "outputs": [
        {
          "output_type": "stream",
          "name": "stdout",
          "text": [
            "Requirement already satisfied: keras-tuner in /usr/local/lib/python3.7/dist-packages (1.1.0)\n",
            "Requirement already satisfied: packaging in /usr/local/lib/python3.7/dist-packages (from keras-tuner) (21.3)\n",
            "Requirement already satisfied: scipy in /usr/local/lib/python3.7/dist-packages (from keras-tuner) (1.4.1)\n",
            "Requirement already satisfied: kt-legacy in /usr/local/lib/python3.7/dist-packages (from keras-tuner) (1.0.4)\n",
            "Requirement already satisfied: tensorboard in /usr/local/lib/python3.7/dist-packages (from keras-tuner) (2.8.0)\n",
            "Requirement already satisfied: requests in /usr/local/lib/python3.7/dist-packages (from keras-tuner) (2.23.0)\n",
            "Requirement already satisfied: ipython in /usr/local/lib/python3.7/dist-packages (from keras-tuner) (5.5.0)\n",
            "Requirement already satisfied: numpy in /usr/local/lib/python3.7/dist-packages (from keras-tuner) (1.21.5)\n",
            "Requirement already satisfied: pickleshare in /usr/local/lib/python3.7/dist-packages (from ipython->keras-tuner) (0.7.5)\n",
            "Requirement already satisfied: setuptools>=18.5 in /usr/local/lib/python3.7/dist-packages (from ipython->keras-tuner) (57.4.0)\n",
            "Requirement already satisfied: simplegeneric>0.8 in /usr/local/lib/python3.7/dist-packages (from ipython->keras-tuner) (0.8.1)\n",
            "Requirement already satisfied: pexpect in /usr/local/lib/python3.7/dist-packages (from ipython->keras-tuner) (4.8.0)\n",
            "Requirement already satisfied: prompt-toolkit<2.0.0,>=1.0.4 in /usr/local/lib/python3.7/dist-packages (from ipython->keras-tuner) (1.0.18)\n",
            "Requirement already satisfied: traitlets>=4.2 in /usr/local/lib/python3.7/dist-packages (from ipython->keras-tuner) (5.1.1)\n",
            "Requirement already satisfied: pygments in /usr/local/lib/python3.7/dist-packages (from ipython->keras-tuner) (2.6.1)\n",
            "Requirement already satisfied: decorator in /usr/local/lib/python3.7/dist-packages (from ipython->keras-tuner) (4.4.2)\n",
            "Requirement already satisfied: six>=1.9.0 in /usr/local/lib/python3.7/dist-packages (from prompt-toolkit<2.0.0,>=1.0.4->ipython->keras-tuner) (1.15.0)\n",
            "Requirement already satisfied: wcwidth in /usr/local/lib/python3.7/dist-packages (from prompt-toolkit<2.0.0,>=1.0.4->ipython->keras-tuner) (0.2.5)\n",
            "Requirement already satisfied: pyparsing!=3.0.5,>=2.0.2 in /usr/local/lib/python3.7/dist-packages (from packaging->keras-tuner) (3.0.7)\n",
            "Requirement already satisfied: ptyprocess>=0.5 in /usr/local/lib/python3.7/dist-packages (from pexpect->ipython->keras-tuner) (0.7.0)\n",
            "Requirement already satisfied: urllib3!=1.25.0,!=1.25.1,<1.26,>=1.21.1 in /usr/local/lib/python3.7/dist-packages (from requests->keras-tuner) (1.24.3)\n",
            "Requirement already satisfied: certifi>=2017.4.17 in /usr/local/lib/python3.7/dist-packages (from requests->keras-tuner) (2021.10.8)\n",
            "Requirement already satisfied: idna<3,>=2.5 in /usr/local/lib/python3.7/dist-packages (from requests->keras-tuner) (2.10)\n",
            "Requirement already satisfied: chardet<4,>=3.0.2 in /usr/local/lib/python3.7/dist-packages (from requests->keras-tuner) (3.0.4)\n",
            "Requirement already satisfied: grpcio>=1.24.3 in /usr/local/lib/python3.7/dist-packages (from tensorboard->keras-tuner) (1.44.0)\n",
            "Requirement already satisfied: tensorboard-plugin-wit>=1.6.0 in /usr/local/lib/python3.7/dist-packages (from tensorboard->keras-tuner) (1.8.1)\n",
            "Requirement already satisfied: google-auth<3,>=1.6.3 in /usr/local/lib/python3.7/dist-packages (from tensorboard->keras-tuner) (1.35.0)\n",
            "Requirement already satisfied: markdown>=2.6.8 in /usr/local/lib/python3.7/dist-packages (from tensorboard->keras-tuner) (3.3.6)\n",
            "Requirement already satisfied: protobuf>=3.6.0 in /usr/local/lib/python3.7/dist-packages (from tensorboard->keras-tuner) (3.17.3)\n",
            "Requirement already satisfied: google-auth-oauthlib<0.5,>=0.4.1 in /usr/local/lib/python3.7/dist-packages (from tensorboard->keras-tuner) (0.4.6)\n",
            "Requirement already satisfied: absl-py>=0.4 in /usr/local/lib/python3.7/dist-packages (from tensorboard->keras-tuner) (1.0.0)\n",
            "Requirement already satisfied: tensorboard-data-server<0.7.0,>=0.6.0 in /usr/local/lib/python3.7/dist-packages (from tensorboard->keras-tuner) (0.6.1)\n",
            "Requirement already satisfied: werkzeug>=0.11.15 in /usr/local/lib/python3.7/dist-packages (from tensorboard->keras-tuner) (1.0.1)\n",
            "Requirement already satisfied: wheel>=0.26 in /usr/local/lib/python3.7/dist-packages (from tensorboard->keras-tuner) (0.37.1)\n",
            "Requirement already satisfied: pyasn1-modules>=0.2.1 in /usr/local/lib/python3.7/dist-packages (from google-auth<3,>=1.6.3->tensorboard->keras-tuner) (0.2.8)\n",
            "Requirement already satisfied: cachetools<5.0,>=2.0.0 in /usr/local/lib/python3.7/dist-packages (from google-auth<3,>=1.6.3->tensorboard->keras-tuner) (4.2.4)\n",
            "Requirement already satisfied: rsa<5,>=3.1.4 in /usr/local/lib/python3.7/dist-packages (from google-auth<3,>=1.6.3->tensorboard->keras-tuner) (4.8)\n",
            "Requirement already satisfied: requests-oauthlib>=0.7.0 in /usr/local/lib/python3.7/dist-packages (from google-auth-oauthlib<0.5,>=0.4.1->tensorboard->keras-tuner) (1.3.1)\n",
            "Requirement already satisfied: importlib-metadata>=4.4 in /usr/local/lib/python3.7/dist-packages (from markdown>=2.6.8->tensorboard->keras-tuner) (4.11.2)\n",
            "Requirement already satisfied: typing-extensions>=3.6.4 in /usr/local/lib/python3.7/dist-packages (from importlib-metadata>=4.4->markdown>=2.6.8->tensorboard->keras-tuner) (3.10.0.2)\n",
            "Requirement already satisfied: zipp>=0.5 in /usr/local/lib/python3.7/dist-packages (from importlib-metadata>=4.4->markdown>=2.6.8->tensorboard->keras-tuner) (3.7.0)\n",
            "Requirement already satisfied: pyasn1<0.5.0,>=0.4.6 in /usr/local/lib/python3.7/dist-packages (from pyasn1-modules>=0.2.1->google-auth<3,>=1.6.3->tensorboard->keras-tuner) (0.4.8)\n",
            "Requirement already satisfied: oauthlib>=3.0.0 in /usr/local/lib/python3.7/dist-packages (from requests-oauthlib>=0.7.0->google-auth-oauthlib<0.5,>=0.4.1->tensorboard->keras-tuner) (3.2.0)\n"
          ]
        }
      ]
    },
    {
      "cell_type": "code",
      "source": [
        "def build_model(hp):\n",
        "    model = keras.Sequential()\n",
        "    for i in range(hp.Int('num_layers', 2, 20)):\n",
        "        model.add(Dense(units=hp.Int('units_' + str(i),\n",
        "                                            min_value=32,\n",
        "                                            max_value=512,\n",
        "                                            step=32),\n",
        "                               activation='relu'))\n",
        "    model.add(Dense(1, activation='sigmoid'))\n",
        "    model.compile(\n",
        "        optimizer=keras.optimizers.Adam(\n",
        "            hp.Choice('learning_rate', [1e-2, 1e-3, 1e-4])),\n",
        "        loss='sparse_categorical_crossentropy',\n",
        "        metrics=['accuracy'])\n",
        "    return model"
      ],
      "metadata": {
        "id": "pGqyTITkLjLq"
      },
      "execution_count": 216,
      "outputs": []
    },
    {
      "cell_type": "code",
      "source": [
        "tuner = RandomSearch(\n",
        "    build_model,\n",
        "    objective='accuracy',\n",
        "    max_trials=5,\n",
        "    executions_per_trial=3,\n",
        "    directory='my_dir',\n",
        "    project_name='Fraud Detection')"
      ],
      "metadata": {
        "id": "brnJRj-pLxOT",
        "colab": {
          "base_uri": "https://localhost:8080/"
        },
        "outputId": "34528ab9-3110-4cc3-f464-9c93ae71a07a"
      },
      "execution_count": 217,
      "outputs": [
        {
          "output_type": "stream",
          "name": "stdout",
          "text": [
            "INFO:tensorflow:Reloading Oracle from existing project my_dir/Fraud Detection/oracle.json\n",
            "INFO:tensorflow:Reloading Tuner from my_dir/Fraud Detection/tuner0.json\n"
          ]
        }
      ]
    },
    {
      "cell_type": "code",
      "source": [
        "tuner.search_space_summary()"
      ],
      "metadata": {
        "colab": {
          "base_uri": "https://localhost:8080/"
        },
        "id": "jcMHNoeBL2kb",
        "outputId": "c51a2f15-e819-46e5-a0ff-11fd2814dea7"
      },
      "execution_count": 218,
      "outputs": [
        {
          "output_type": "stream",
          "name": "stdout",
          "text": [
            "Search space summary\n",
            "Default search space size: 22\n",
            "num_layers (Int)\n",
            "{'default': None, 'conditions': [], 'min_value': 2, 'max_value': 20, 'step': 1, 'sampling': None}\n",
            "units_0 (Int)\n",
            "{'default': None, 'conditions': [], 'min_value': 32, 'max_value': 512, 'step': 32, 'sampling': None}\n",
            "units_1 (Int)\n",
            "{'default': None, 'conditions': [], 'min_value': 32, 'max_value': 512, 'step': 32, 'sampling': None}\n",
            "learning_rate (Choice)\n",
            "{'default': 0.01, 'conditions': [], 'values': [0.01, 0.001, 0.0001], 'ordered': True}\n",
            "units_2 (Int)\n",
            "{'default': None, 'conditions': [], 'min_value': 32, 'max_value': 512, 'step': 32, 'sampling': None}\n",
            "units_3 (Int)\n",
            "{'default': None, 'conditions': [], 'min_value': 32, 'max_value': 512, 'step': 32, 'sampling': None}\n",
            "units_4 (Int)\n",
            "{'default': None, 'conditions': [], 'min_value': 32, 'max_value': 512, 'step': 32, 'sampling': None}\n",
            "units_5 (Int)\n",
            "{'default': None, 'conditions': [], 'min_value': 32, 'max_value': 512, 'step': 32, 'sampling': None}\n",
            "units_6 (Int)\n",
            "{'default': None, 'conditions': [], 'min_value': 32, 'max_value': 512, 'step': 32, 'sampling': None}\n",
            "units_7 (Int)\n",
            "{'default': None, 'conditions': [], 'min_value': 32, 'max_value': 512, 'step': 32, 'sampling': None}\n",
            "units_8 (Int)\n",
            "{'default': None, 'conditions': [], 'min_value': 32, 'max_value': 512, 'step': 32, 'sampling': None}\n",
            "units_9 (Int)\n",
            "{'default': None, 'conditions': [], 'min_value': 32, 'max_value': 512, 'step': 32, 'sampling': None}\n",
            "units_10 (Int)\n",
            "{'default': None, 'conditions': [], 'min_value': 32, 'max_value': 512, 'step': 32, 'sampling': None}\n",
            "units_11 (Int)\n",
            "{'default': None, 'conditions': [], 'min_value': 32, 'max_value': 512, 'step': 32, 'sampling': None}\n",
            "units_12 (Int)\n",
            "{'default': None, 'conditions': [], 'min_value': 32, 'max_value': 512, 'step': 32, 'sampling': None}\n",
            "units_13 (Int)\n",
            "{'default': None, 'conditions': [], 'min_value': 32, 'max_value': 512, 'step': 32, 'sampling': None}\n",
            "units_14 (Int)\n",
            "{'default': None, 'conditions': [], 'min_value': 32, 'max_value': 512, 'step': 32, 'sampling': None}\n",
            "units_15 (Int)\n",
            "{'default': None, 'conditions': [], 'min_value': 32, 'max_value': 512, 'step': 32, 'sampling': None}\n",
            "units_16 (Int)\n",
            "{'default': None, 'conditions': [], 'min_value': 32, 'max_value': 512, 'step': 32, 'sampling': None}\n",
            "units_17 (Int)\n",
            "{'default': None, 'conditions': [], 'min_value': 32, 'max_value': 512, 'step': 32, 'sampling': None}\n",
            "units_18 (Int)\n",
            "{'default': None, 'conditions': [], 'min_value': 32, 'max_value': 512, 'step': 32, 'sampling': None}\n",
            "units_19 (Int)\n",
            "{'default': None, 'conditions': [], 'min_value': 32, 'max_value': 512, 'step': 32, 'sampling': None}\n"
          ]
        }
      ]
    },
    {
      "cell_type": "code",
      "source": [
        "tuner.search(X_train, y_train,\n",
        "             epochs=5,\n",
        "             validation_data=(X_test, y_test))"
      ],
      "metadata": {
        "colab": {
          "base_uri": "https://localhost:8080/"
        },
        "id": "jxECMKfxL4o8",
        "outputId": "6bb22334-62d7-4db3-f17a-c1820a62b74a"
      },
      "execution_count": 219,
      "outputs": [
        {
          "output_type": "stream",
          "name": "stdout",
          "text": [
            "INFO:tensorflow:Oracle triggered exit\n"
          ]
        }
      ]
    },
    {
      "cell_type": "code",
      "source": [
        "tuner.results_summary()"
      ],
      "metadata": {
        "colab": {
          "base_uri": "https://localhost:8080/"
        },
        "id": "AFOjYTG_L8Mo",
        "outputId": "91166334-966e-4618-c44d-5e6ec73a12a6"
      },
      "execution_count": 220,
      "outputs": [
        {
          "output_type": "stream",
          "name": "stdout",
          "text": [
            "Results summary\n",
            "Results in my_dir/Fraud Detection\n",
            "Showing 10 best trials\n",
            "Objective(name='accuracy', direction='max')\n",
            "Trial summary\n",
            "Hyperparameters:\n",
            "num_layers: 20\n",
            "units_0: 256\n",
            "units_1: 448\n",
            "learning_rate: 0.0001\n",
            "units_2: 32\n",
            "units_3: 32\n",
            "units_4: 32\n",
            "units_5: 32\n",
            "units_6: 32\n",
            "units_7: 32\n",
            "units_8: 32\n",
            "units_9: 32\n",
            "units_10: 32\n",
            "units_11: 32\n",
            "units_12: 32\n",
            "units_13: 32\n",
            "units_14: 32\n",
            "units_15: 32\n",
            "units_16: 32\n",
            "units_17: 32\n",
            "units_18: 32\n",
            "units_19: 32\n",
            "Score: 0.906208336353302\n",
            "Trial summary\n",
            "Hyperparameters:\n",
            "num_layers: 11\n",
            "units_0: 64\n",
            "units_1: 352\n",
            "learning_rate: 0.0001\n",
            "units_2: 128\n",
            "units_3: 160\n",
            "units_4: 224\n",
            "units_5: 480\n",
            "units_6: 224\n",
            "units_7: 352\n",
            "units_8: 32\n",
            "units_9: 64\n",
            "units_10: 448\n",
            "units_11: 64\n",
            "units_12: 512\n",
            "units_13: 96\n",
            "units_14: 256\n",
            "units_15: 64\n",
            "units_16: 256\n",
            "units_17: 256\n",
            "units_18: 352\n",
            "units_19: 448\n",
            "Score: 0.906208336353302\n",
            "Trial summary\n",
            "Hyperparameters:\n",
            "num_layers: 3\n",
            "units_0: 64\n",
            "units_1: 416\n",
            "learning_rate: 0.01\n",
            "units_2: 192\n",
            "units_3: 64\n",
            "units_4: 512\n",
            "units_5: 96\n",
            "units_6: 224\n",
            "units_7: 480\n",
            "units_8: 160\n",
            "units_9: 384\n",
            "units_10: 320\n",
            "units_11: 320\n",
            "units_12: 512\n",
            "units_13: 416\n",
            "units_14: 416\n",
            "units_15: 96\n",
            "units_16: 128\n",
            "units_17: 160\n",
            "units_18: 512\n",
            "units_19: 224\n",
            "Score: 0.906208336353302\n",
            "Trial summary\n",
            "Hyperparameters:\n",
            "num_layers: 18\n",
            "units_0: 320\n",
            "units_1: 64\n",
            "learning_rate: 0.0001\n",
            "units_2: 320\n",
            "units_3: 512\n",
            "units_4: 320\n",
            "units_5: 64\n",
            "units_6: 416\n",
            "units_7: 448\n",
            "units_8: 480\n",
            "units_9: 128\n",
            "units_10: 64\n",
            "units_11: 32\n",
            "units_12: 512\n",
            "units_13: 256\n",
            "units_14: 96\n",
            "units_15: 64\n",
            "units_16: 192\n",
            "units_17: 320\n",
            "units_18: 384\n",
            "units_19: 32\n",
            "Score: 0.906208336353302\n",
            "Trial summary\n",
            "Hyperparameters:\n",
            "num_layers: 8\n",
            "units_0: 384\n",
            "units_1: 96\n",
            "learning_rate: 0.0001\n",
            "units_2: 448\n",
            "units_3: 32\n",
            "units_4: 384\n",
            "units_5: 224\n",
            "units_6: 288\n",
            "units_7: 64\n",
            "units_8: 160\n",
            "units_9: 384\n",
            "units_10: 448\n",
            "units_11: 96\n",
            "units_12: 416\n",
            "units_13: 128\n",
            "units_14: 448\n",
            "units_15: 128\n",
            "units_16: 480\n",
            "units_17: 96\n",
            "units_18: 64\n",
            "units_19: 320\n",
            "Score: 0.906208336353302\n"
          ]
        }
      ]
    },
    {
      "cell_type": "markdown",
      "source": [
        "### Training the Neural Networks using the best combination obtained:"
      ],
      "metadata": {
        "id": "rluJZDeq3l-D"
      }
    },
    {
      "cell_type": "code",
      "source": [
        "classifier = Sequential()\n",
        "classifier.add(Dense(160, input_dim=4, activation= \"relu\"))\n",
        "classifier.add(Dense(256, activation= \"relu\"))\n",
        "classifier.add(Dense(32, activation= \"relu\"))\n",
        "classifier.add(Dense(32, activation= \"relu\"))\n",
        "classifier.add(Dense(32, activation= \"relu\"))\n",
        "classifier.add(Dense(32, activation= \"relu\"))\n",
        "classifier.add(Dense(32, activation= \"relu\"))\n",
        "classifier.add(Dense(32, activation= \"relu\"))\n",
        "classifier.add(Dense(32, activation= \"relu\"))\n",
        "classifier.add(Dense(32, activation= \"relu\"))\n",
        "classifier.add(Dense(32, activation= \"relu\"))\n",
        "classifier.add(Dense(32, activation= \"relu\"))\n",
        "classifier.add(Dense(1, activation= \"sigmoid\"))"
      ],
      "metadata": {
        "id": "ld5LKad3TKn9"
      },
      "execution_count": 221,
      "outputs": []
    },
    {
      "cell_type": "code",
      "source": [
        "opt = keras.optimizers.Adam(learning_rate=0.01)\n",
        "classifier.compile(loss= \"binary_crossentropy\", optimizer=opt, metrics=[\"accuracy\"])\n",
        "classifier.fit(X_train, y_train, epochs=20)"
      ],
      "metadata": {
        "colab": {
          "base_uri": "https://localhost:8080/"
        },
        "id": "AHXsygVwTwc_",
        "outputId": "8b1cc6e0-e56a-409a-9631-c29ba3220afd"
      },
      "execution_count": 222,
      "outputs": [
        {
          "output_type": "stream",
          "name": "stdout",
          "text": [
            "Epoch 1/20\n",
            "3000/3000 [==============================] - 25s 8ms/step - loss: 0.2755 - accuracy: 0.9144\n",
            "Epoch 2/20\n",
            "3000/3000 [==============================] - 23s 8ms/step - loss: 0.3123 - accuracy: 0.9062\n",
            "Epoch 3/20\n",
            "3000/3000 [==============================] - 15s 5ms/step - loss: 0.3121 - accuracy: 0.9062\n",
            "Epoch 4/20\n",
            "3000/3000 [==============================] - 14s 5ms/step - loss: 0.3119 - accuracy: 0.9062\n",
            "Epoch 5/20\n",
            "3000/3000 [==============================] - 13s 4ms/step - loss: 0.3118 - accuracy: 0.9062\n",
            "Epoch 6/20\n",
            "3000/3000 [==============================] - 13s 4ms/step - loss: 0.3116 - accuracy: 0.9062\n",
            "Epoch 7/20\n",
            "3000/3000 [==============================] - 21s 7ms/step - loss: 0.3117 - accuracy: 0.9062\n",
            "Epoch 8/20\n",
            "3000/3000 [==============================] - 15s 5ms/step - loss: 0.3114 - accuracy: 0.9062\n",
            "Epoch 9/20\n",
            "3000/3000 [==============================] - 13s 4ms/step - loss: 0.3114 - accuracy: 0.9062\n",
            "Epoch 10/20\n",
            "3000/3000 [==============================] - 15s 5ms/step - loss: 0.3114 - accuracy: 0.9062\n",
            "Epoch 11/20\n",
            "3000/3000 [==============================] - 13s 4ms/step - loss: 0.3113 - accuracy: 0.9062\n",
            "Epoch 12/20\n",
            "3000/3000 [==============================] - 14s 5ms/step - loss: 0.3113 - accuracy: 0.9062\n",
            "Epoch 13/20\n",
            "3000/3000 [==============================] - 14s 5ms/step - loss: 0.3114 - accuracy: 0.9062\n",
            "Epoch 14/20\n",
            "3000/3000 [==============================] - 14s 5ms/step - loss: 0.3114 - accuracy: 0.9062\n",
            "Epoch 15/20\n",
            "3000/3000 [==============================] - 13s 4ms/step - loss: 0.3113 - accuracy: 0.9062\n",
            "Epoch 16/20\n",
            "3000/3000 [==============================] - 13s 4ms/step - loss: 0.3114 - accuracy: 0.9062\n",
            "Epoch 17/20\n",
            "3000/3000 [==============================] - 14s 5ms/step - loss: 0.3114 - accuracy: 0.9062\n",
            "Epoch 18/20\n",
            "3000/3000 [==============================] - 13s 4ms/step - loss: 0.3113 - accuracy: 0.9062\n",
            "Epoch 19/20\n",
            "3000/3000 [==============================] - 13s 4ms/step - loss: 0.3114 - accuracy: 0.9062\n",
            "Epoch 20/20\n",
            "3000/3000 [==============================] - 13s 4ms/step - loss: 0.3114 - accuracy: 0.9062\n"
          ]
        },
        {
          "output_type": "execute_result",
          "data": {
            "text/plain": [
              "<keras.callbacks.History at 0x7f02125e37d0>"
            ]
          },
          "metadata": {},
          "execution_count": 222
        }
      ]
    },
    {
      "cell_type": "code",
      "source": [
        "pred = (classifier.predict(X_test) > 0.5).astype(\"int32\")"
      ],
      "metadata": {
        "id": "KEkC1JOAUCWa"
      },
      "execution_count": null,
      "outputs": []
    },
    {
      "cell_type": "code",
      "source": [
        "cm = confusion_matrix(y_test, pred)\n",
        "print(cm)"
      ],
      "metadata": {
        "id": "3NofbI-xUPMh"
      },
      "execution_count": null,
      "outputs": []
    },
    {
      "cell_type": "code",
      "source": [
        "cr = classification_report(y_test, pred)\n",
        "print(cr)"
      ],
      "metadata": {
        "id": "aU_74flpUSpA"
      },
      "execution_count": null,
      "outputs": []
    },
    {
      "cell_type": "markdown",
      "source": [
        "## BEST MODEL:"
      ],
      "metadata": {
        "id": "FmW_HC5h3vDQ"
      }
    },
    {
      "cell_type": "markdown",
      "source": [
        "Comparing the \"F1 score\" of every model, we can see that Random Forest Classifier performs the best.\n",
        "\n",
        "Also the \"Recall\", \"Precision\" and \"Accuracy\" of the Random Forest Classifier performed better than other model. So, let's train the entire dataset using Random Forest Classifier."
      ],
      "metadata": {
        "id": "DyE2t3mO34Vs"
      }
    },
    {
      "cell_type": "code",
      "source": [
        "final_model = RandomForestClassifier(n_estimators = 100, max_depth = 8, criterion = 'entropy', random_state = 0)"
      ],
      "metadata": {
        "id": "vSyGzYAhWkBM"
      },
      "execution_count": 225,
      "outputs": []
    },
    {
      "cell_type": "code",
      "source": [
        "final_model.fit(X, y)"
      ],
      "metadata": {
        "colab": {
          "base_uri": "https://localhost:8080/"
        },
        "id": "nxlT8piaaKuA",
        "outputId": "5d794627-c403-490e-b326-c77b461a9d6b"
      },
      "execution_count": 226,
      "outputs": [
        {
          "output_type": "execute_result",
          "data": {
            "text/plain": [
              "RandomForestClassifier(criterion='entropy', max_depth=8, random_state=0)"
            ]
          },
          "metadata": {},
          "execution_count": 226
        }
      ]
    },
    {
      "cell_type": "markdown",
      "source": [
        "## Saving the model parameters for further use:"
      ],
      "metadata": {
        "id": "gE82p82P4X8Z"
      }
    },
    {
      "cell_type": "code",
      "source": [
        "import pickle\n",
        "# save the model to disk\n",
        "filename = 'finalized_model.sav'\n",
        "pickle.dump(final_model, open(filename, 'wb'))\n",
        " \n",
        "# load the model from disk\n",
        "loaded_model = pickle.load(open(filename, 'rb'))"
      ],
      "metadata": {
        "id": "RI50sy-NaWQr"
      },
      "execution_count": 227,
      "outputs": []
    }
  ]
}